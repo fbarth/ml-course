{
 "cells": [
  {
   "cell_type": "markdown",
   "metadata": {},
   "source": [
    "# Material sobre datasets desbalanceados\n",
    "\n",
    "Datasets desbalanceados ocorrem quando temos um dataset que possui muitos exemplos de uma classe e poucos exemplos de outra classe. Alguns exemplos de situações onde o desbalanceamento é quase certo são problemas de detecção de fraude e diagnóstico médicos – é intuitivo pensar que existem mais transações lícitas que criminosas, ou que o conjunto de pessoas diagnosticadas com câncer é bem menor que o conjunto de pessoas sem a doença.\n",
    "\n",
    "Considere o dataset sintético abaixo:"
   ]
  },
  {
   "cell_type": "code",
   "execution_count": 2,
   "metadata": {},
   "outputs": [
    {
     "data": {
      "text/html": [
       "<div>\n",
       "<style scoped>\n",
       "    .dataframe tbody tr th:only-of-type {\n",
       "        vertical-align: middle;\n",
       "    }\n",
       "\n",
       "    .dataframe tbody tr th {\n",
       "        vertical-align: top;\n",
       "    }\n",
       "\n",
       "    .dataframe thead th {\n",
       "        text-align: right;\n",
       "    }\n",
       "</style>\n",
       "<table border=\"1\" class=\"dataframe\">\n",
       "  <thead>\n",
       "    <tr style=\"text-align: right;\">\n",
       "      <th></th>\n",
       "      <th>0</th>\n",
       "      <th>1</th>\n",
       "      <th>2</th>\n",
       "      <th>3</th>\n",
       "      <th>4</th>\n",
       "      <th>5</th>\n",
       "      <th>6</th>\n",
       "      <th>7</th>\n",
       "      <th>8</th>\n",
       "      <th>9</th>\n",
       "      <th>...</th>\n",
       "      <th>11</th>\n",
       "      <th>12</th>\n",
       "      <th>13</th>\n",
       "      <th>14</th>\n",
       "      <th>15</th>\n",
       "      <th>16</th>\n",
       "      <th>17</th>\n",
       "      <th>18</th>\n",
       "      <th>19</th>\n",
       "      <th>target</th>\n",
       "    </tr>\n",
       "  </thead>\n",
       "  <tbody>\n",
       "    <tr>\n",
       "      <th>0</th>\n",
       "      <td>-1.655240</td>\n",
       "      <td>-0.147198</td>\n",
       "      <td>0.415068</td>\n",
       "      <td>0.403287</td>\n",
       "      <td>-0.838969</td>\n",
       "      <td>-0.710579</td>\n",
       "      <td>0.669914</td>\n",
       "      <td>0.349415</td>\n",
       "      <td>0.411229</td>\n",
       "      <td>-0.524709</td>\n",
       "      <td>...</td>\n",
       "      <td>-0.886677</td>\n",
       "      <td>0.008313</td>\n",
       "      <td>0.133057</td>\n",
       "      <td>-0.422450</td>\n",
       "      <td>-0.751846</td>\n",
       "      <td>0.310938</td>\n",
       "      <td>1.090738</td>\n",
       "      <td>-1.170717</td>\n",
       "      <td>-1.144163</td>\n",
       "      <td>0</td>\n",
       "    </tr>\n",
       "    <tr>\n",
       "      <th>1</th>\n",
       "      <td>0.664089</td>\n",
       "      <td>0.796450</td>\n",
       "      <td>1.136533</td>\n",
       "      <td>-0.584531</td>\n",
       "      <td>-1.234181</td>\n",
       "      <td>0.247015</td>\n",
       "      <td>1.195855</td>\n",
       "      <td>0.074378</td>\n",
       "      <td>0.024109</td>\n",
       "      <td>0.157357</td>\n",
       "      <td>...</td>\n",
       "      <td>0.645870</td>\n",
       "      <td>-1.131955</td>\n",
       "      <td>-1.088485</td>\n",
       "      <td>1.230223</td>\n",
       "      <td>-1.543503</td>\n",
       "      <td>1.201179</td>\n",
       "      <td>1.747610</td>\n",
       "      <td>-1.921932</td>\n",
       "      <td>-0.272518</td>\n",
       "      <td>0</td>\n",
       "    </tr>\n",
       "    <tr>\n",
       "      <th>2</th>\n",
       "      <td>-0.573594</td>\n",
       "      <td>-1.132047</td>\n",
       "      <td>-0.358793</td>\n",
       "      <td>0.988715</td>\n",
       "      <td>-2.019066</td>\n",
       "      <td>-1.431532</td>\n",
       "      <td>0.452350</td>\n",
       "      <td>0.773375</td>\n",
       "      <td>0.275413</td>\n",
       "      <td>-2.064601</td>\n",
       "      <td>...</td>\n",
       "      <td>-0.364147</td>\n",
       "      <td>-0.439066</td>\n",
       "      <td>0.266009</td>\n",
       "      <td>0.213619</td>\n",
       "      <td>-2.242023</td>\n",
       "      <td>-0.047062</td>\n",
       "      <td>2.032065</td>\n",
       "      <td>-3.269606</td>\n",
       "      <td>0.678143</td>\n",
       "      <td>0</td>\n",
       "    </tr>\n",
       "    <tr>\n",
       "      <th>3</th>\n",
       "      <td>-0.160255</td>\n",
       "      <td>0.402425</td>\n",
       "      <td>-1.712775</td>\n",
       "      <td>1.235039</td>\n",
       "      <td>-0.855401</td>\n",
       "      <td>0.730973</td>\n",
       "      <td>-1.266879</td>\n",
       "      <td>0.060664</td>\n",
       "      <td>-1.081172</td>\n",
       "      <td>-0.950357</td>\n",
       "      <td>...</td>\n",
       "      <td>-1.197636</td>\n",
       "      <td>-0.180489</td>\n",
       "      <td>1.765828</td>\n",
       "      <td>0.836075</td>\n",
       "      <td>-1.383372</td>\n",
       "      <td>0.665599</td>\n",
       "      <td>0.964300</td>\n",
       "      <td>-1.596423</td>\n",
       "      <td>0.341733</td>\n",
       "      <td>0</td>\n",
       "    </tr>\n",
       "    <tr>\n",
       "      <th>4</th>\n",
       "      <td>0.909147</td>\n",
       "      <td>-2.191779</td>\n",
       "      <td>0.213128</td>\n",
       "      <td>-0.335295</td>\n",
       "      <td>-0.789976</td>\n",
       "      <td>1.808119</td>\n",
       "      <td>0.507753</td>\n",
       "      <td>0.032192</td>\n",
       "      <td>-0.746902</td>\n",
       "      <td>0.604907</td>\n",
       "      <td>...</td>\n",
       "      <td>1.492470</td>\n",
       "      <td>0.060965</td>\n",
       "      <td>1.162961</td>\n",
       "      <td>0.829912</td>\n",
       "      <td>-1.785085</td>\n",
       "      <td>1.767214</td>\n",
       "      <td>1.148502</td>\n",
       "      <td>-1.674123</td>\n",
       "      <td>1.319652</td>\n",
       "      <td>0</td>\n",
       "    </tr>\n",
       "  </tbody>\n",
       "</table>\n",
       "<p>5 rows × 21 columns</p>\n",
       "</div>"
      ],
      "text/plain": [
       "          0         1         2         3         4         5         6  \\\n",
       "0 -1.655240 -0.147198  0.415068  0.403287 -0.838969 -0.710579  0.669914   \n",
       "1  0.664089  0.796450  1.136533 -0.584531 -1.234181  0.247015  1.195855   \n",
       "2 -0.573594 -1.132047 -0.358793  0.988715 -2.019066 -1.431532  0.452350   \n",
       "3 -0.160255  0.402425 -1.712775  1.235039 -0.855401  0.730973 -1.266879   \n",
       "4  0.909147 -2.191779  0.213128 -0.335295 -0.789976  1.808119  0.507753   \n",
       "\n",
       "          7         8         9  ...        11        12        13        14  \\\n",
       "0  0.349415  0.411229 -0.524709  ... -0.886677  0.008313  0.133057 -0.422450   \n",
       "1  0.074378  0.024109  0.157357  ...  0.645870 -1.131955 -1.088485  1.230223   \n",
       "2  0.773375  0.275413 -2.064601  ... -0.364147 -0.439066  0.266009  0.213619   \n",
       "3  0.060664 -1.081172 -0.950357  ... -1.197636 -0.180489  1.765828  0.836075   \n",
       "4  0.032192 -0.746902  0.604907  ...  1.492470  0.060965  1.162961  0.829912   \n",
       "\n",
       "         15        16        17        18        19  target  \n",
       "0 -0.751846  0.310938  1.090738 -1.170717 -1.144163       0  \n",
       "1 -1.543503  1.201179  1.747610 -1.921932 -0.272518       0  \n",
       "2 -2.242023 -0.047062  2.032065 -3.269606  0.678143       0  \n",
       "3 -1.383372  0.665599  0.964300 -1.596423  0.341733       0  \n",
       "4 -1.785085  1.767214  1.148502 -1.674123  1.319652       0  \n",
       "\n",
       "[5 rows x 21 columns]"
      ]
     },
     "execution_count": 2,
     "metadata": {},
     "output_type": "execute_result"
    }
   ],
   "source": [
    "import pandas as pd\n",
    "from sklearn.datasets import make_classification\n",
    "X, y = make_classification(\n",
    "    n_classes=2, class_sep=1.5, weights=[0.99, 0.01],\n",
    "    n_informative=3, n_redundant=1, flip_y=0,\n",
    "    n_features=20, n_clusters_per_class=1,\n",
    "    n_samples=10000, random_state=10\n",
    ")\n",
    "df = pd.DataFrame(X)\n",
    "df['target'] = y\n",
    "df.head()"
   ]
  },
  {
   "cell_type": "code",
   "execution_count": 3,
   "metadata": {},
   "outputs": [
    {
     "data": {
      "text/plain": [
       "0    9900\n",
       "1     100\n",
       "Name: target, dtype: int64"
      ]
     },
     "execution_count": 3,
     "metadata": {},
     "output_type": "execute_result"
    }
   ],
   "source": [
    "df['target'].value_counts()"
   ]
  },
  {
   "cell_type": "markdown",
   "metadata": {},
   "source": [
    "Digamos que o valor 1 da variável *target* são transações fraudulentas e o valor 0 são transações não fraudulentas. Dado a distribuição de exemplos (apenas 1\\% das transações são fraudulentas) é possível perceber que trata-se de um dataset não balanceado. "
   ]
  },
  {
   "cell_type": "markdown",
   "metadata": {},
   "source": [
    "## Métrica\n",
    "\n",
    "O primeiro problema que temos com este tipo de dataset é a métrica a ser usada para avaliar a qualidade do modelo. Por exemplo, não podemos usar acurácia. Imagine uma função de predição extremamente simples que considera todos os exemplos como sendo da categoria majoritária (0): "
   ]
  },
  {
   "cell_type": "code",
   "execution_count": 4,
   "metadata": {},
   "outputs": [],
   "source": [
    "predicted = df.apply(lambda x: 0,axis=1)"
   ]
  },
  {
   "cell_type": "code",
   "execution_count": 6,
   "metadata": {},
   "outputs": [
    {
     "name": "stdout",
     "output_type": "stream",
     "text": [
      "[[9900    0]\n",
      " [ 100    0]]\n",
      "              precision    recall  f1-score   support\n",
      "\n",
      "           0       0.99      1.00      0.99      9900\n",
      "           1       0.00      0.00      0.00       100\n",
      "\n",
      "    accuracy                           0.99     10000\n",
      "   macro avg       0.49      0.50      0.50     10000\n",
      "weighted avg       0.98      0.99      0.99     10000\n",
      "\n"
     ]
    },
    {
     "name": "stderr",
     "output_type": "stream",
     "text": [
      "/Users/fabricio/opt/anaconda3/lib/python3.7/site-packages/sklearn/metrics/_classification.py:1221: UndefinedMetricWarning: Precision and F-score are ill-defined and being set to 0.0 in labels with no predicted samples. Use `zero_division` parameter to control this behavior.\n",
      "  _warn_prf(average, modifier, msg_start, len(result))\n"
     ]
    }
   ],
   "source": [
    "from sklearn.metrics import confusion_matrix\n",
    "print(confusion_matrix(df['target'], predicted))\n",
    "from sklearn.metrics import classification_report\n",
    "print(classification_report(df['target'], predicted))"
   ]
  },
  {
   "cell_type": "markdown",
   "metadata": {},
   "source": [
    "A acurácia retornada para esta função é de 99\\%! Bem alto certo? Mas, este modelo consegue identificar o que queremos identificar? **Não!**\n",
    "\n",
    "Sendo assim, temos que considerar outra métrica. Por exemplo, **f1-score** e informar que a classe de interesse é a com valor igual a 1:"
   ]
  },
  {
   "cell_type": "code",
   "execution_count": 7,
   "metadata": {},
   "outputs": [
    {
     "name": "stdout",
     "output_type": "stream",
     "text": [
      "0.0\n"
     ]
    }
   ],
   "source": [
    "from sklearn.metrics import f1_score\n",
    "print(f1_score(df['target'], predicted, pos_label=1))"
   ]
  },
  {
   "cell_type": "markdown",
   "metadata": {},
   "source": [
    "Neste caso conseguimos perceber o quão ruim é este modelo. Vamos tentar com um modelo mais sofisticado:"
   ]
  },
  {
   "cell_type": "code",
   "execution_count": 8,
   "metadata": {},
   "outputs": [
    {
     "name": "stdout",
     "output_type": "stream",
     "text": [
      "f1-score: 84.44%\n",
      "accuracy: 99.65%\n",
      "[[1974    1]\n",
      " [   6   19]]\n",
      "              precision    recall  f1-score   support\n",
      "\n",
      "           0       1.00      1.00      1.00      1975\n",
      "           1       0.95      0.76      0.84        25\n",
      "\n",
      "    accuracy                           1.00      2000\n",
      "   macro avg       0.97      0.88      0.92      2000\n",
      "weighted avg       1.00      1.00      1.00      2000\n",
      "\n"
     ]
    }
   ],
   "source": [
    "from sklearn.ensemble import GradientBoostingClassifier\n",
    "from sklearn.model_selection import train_test_split\n",
    "from sklearn.metrics import accuracy_score\n",
    "\n",
    "X_train, X_test, y_train, y_test = train_test_split(X, y, test_size=0.2, random_state=1)\n",
    "model = GradientBoostingClassifier()\n",
    "model.fit(X_train, y_train)\n",
    "y_pred = model.predict(X_test)\n",
    "f1 = f1_score(y_test, y_pred)\n",
    "print(\"f1-score: %.2f%%\" % (f1 * 100.0))\n",
    "accuracy = accuracy_score(y_test, y_pred)\n",
    "print(\"accuracy: %.2f%%\" % (accuracy * 100.0))\n",
    "from sklearn.metrics import confusion_matrix\n",
    "print(confusion_matrix(y_test, y_pred))\n",
    "from sklearn.metrics import classification_report\n",
    "print(classification_report(y_test, y_pred))"
   ]
  },
  {
   "cell_type": "markdown",
   "metadata": {},
   "source": [
    "Neste caso, o resultado foi muito melhor do que o primeiro modelo. Pois, saimos de f1-score igual a zero para f1-score igual a 84.44\\%"
   ]
  },
  {
   "cell_type": "markdown",
   "metadata": {},
   "source": [
    "## Abordagens\n",
    "\n",
    "As abordagens para tratamento de datasets desbalanceados são: \n",
    "\n",
    "* over-sampling, e;\n",
    "* under-sampling\n",
    "\n",
    "São métodos que equalizam a quantidade de exemplos de cada classe no conjunto de treinamento. Em outras palavras, ou ele irá diminuir a quantidade de observações da classe majoritária, ou irá aumentar as observações da classe minoritária."
   ]
  },
  {
   "cell_type": "markdown",
   "metadata": {},
   "source": [
    "### Implementando under-sampling"
   ]
  },
  {
   "cell_type": "code",
   "execution_count": 12,
   "metadata": {},
   "outputs": [
    {
     "name": "stdout",
     "output_type": "stream",
     "text": [
      "dataset original\n",
      "0    7925\n",
      "1      75\n",
      "Name: target, dtype: int64\n",
      "dataset transformado\n",
      "1    75\n",
      "0    75\n",
      "Name: target, dtype: int64\n"
     ]
    }
   ],
   "source": [
    "# CONTAR CLASSES\n",
    "df_train = pd.DataFrame(X_train)\n",
    "df_train['target'] = y_train\n",
    "print('dataset original')\n",
    "print(df_train['target'].value_counts())\n",
    "\n",
    "count_class_0, count_class_1 = df_train.target.value_counts()\n",
    "# Divide by class\n",
    "df_train_class_0 = df_train[df_train['target'] == 0]\n",
    "df_train_class_1 = df_train[df_train['target'] == 1]\n",
    "\n",
    "df_train_class_0_under = df_train_class_0.sample(count_class_1)\n",
    "\n",
    "df_train_under = pd.concat([df_train_class_0_under, df_train_class_1], axis=0)\n",
    "df_train_under['target'].value_counts()\n",
    "print('dataset transformado')\n",
    "print(df_train_under['target'].value_counts())"
   ]
  },
  {
   "cell_type": "code",
   "execution_count": 13,
   "metadata": {},
   "outputs": [
    {
     "data": {
      "text/plain": [
       "GradientBoostingClassifier()"
      ]
     },
     "execution_count": 13,
     "metadata": {},
     "output_type": "execute_result"
    }
   ],
   "source": [
    "# soh o conjunto de treinamento eh under-sampling\n",
    "y_under = df_train_under['target']\n",
    "df_train_under = df_train_under.drop(columns=['target'])\n",
    "model.fit(df_train_under, y_under)"
   ]
  },
  {
   "cell_type": "code",
   "execution_count": 14,
   "metadata": {},
   "outputs": [
    {
     "name": "stdout",
     "output_type": "stream",
     "text": [
      "f1-score: 22.32%\n",
      "accuracy: 91.30%\n",
      "[[1801  174]\n",
      " [   0   25]]\n",
      "              precision    recall  f1-score   support\n",
      "\n",
      "           0       1.00      0.91      0.95      1975\n",
      "           1       0.13      1.00      0.22        25\n",
      "\n",
      "    accuracy                           0.91      2000\n",
      "   macro avg       0.56      0.96      0.59      2000\n",
      "weighted avg       0.99      0.91      0.94      2000\n",
      "\n"
     ]
    }
   ],
   "source": [
    "y_pred = model.predict(X_test)\n",
    "f1 = f1_score(y_test, y_pred)\n",
    "print(\"f1-score: %.2f%%\" % (f1 * 100.0))\n",
    "accuracy = accuracy_score(y_test, y_pred)\n",
    "print(\"accuracy: %.2f%%\" % (accuracy * 100.0))\n",
    "from sklearn.metrics import confusion_matrix\n",
    "print(confusion_matrix(y_test, y_pred))\n",
    "from sklearn.metrics import classification_report\n",
    "print(classification_report(y_test, y_pred))"
   ]
  },
  {
   "cell_type": "markdown",
   "metadata": {},
   "source": [
    "### Implementando over-sampling"
   ]
  },
  {
   "cell_type": "code",
   "execution_count": 15,
   "metadata": {},
   "outputs": [
    {
     "name": "stdout",
     "output_type": "stream",
     "text": [
      "dataset original\n",
      "0    7925\n",
      "1      75\n",
      "Name: target, dtype: int64\n",
      "dataset transformado\n"
     ]
    },
    {
     "data": {
      "text/plain": [
       "1    7925\n",
       "0    7925\n",
       "Name: target, dtype: int64"
      ]
     },
     "execution_count": 15,
     "metadata": {},
     "output_type": "execute_result"
    }
   ],
   "source": [
    "# CONTAR CLASSES\n",
    "df_train = pd.DataFrame(X_train)\n",
    "df_train['target'] = y_train\n",
    "print('dataset original')\n",
    "print(df_train['target'].value_counts())\n",
    "\n",
    "count_class_0, count_class_1 = df_train.target.value_counts()\n",
    "# Divide by class\n",
    "df_train_class_0 = df_train[df_train['target'] == 0]\n",
    "df_train_class_1 = df_train[df_train['target'] == 1]\n",
    "\n",
    "df_train_class_1_over = df_train_class_1.sample(count_class_0, replace=True)\n",
    "\n",
    "df_train_over = pd.concat([df_train_class_0, df_train_class_1_over], axis=0)\n",
    "print('dataset transformado')\n",
    "df_train_over['target'].value_counts()"
   ]
  },
  {
   "cell_type": "code",
   "execution_count": 16,
   "metadata": {},
   "outputs": [
    {
     "data": {
      "text/plain": [
       "GradientBoostingClassifier()"
      ]
     },
     "execution_count": 16,
     "metadata": {},
     "output_type": "execute_result"
    }
   ],
   "source": [
    "# soh o conjunto de treinamento eh over-sampling\n",
    "y_over = df_train_over['target']\n",
    "df_train_over = df_train_over.drop(columns=['target'])\n",
    "model.fit(df_train_over, y_over)"
   ]
  },
  {
   "cell_type": "code",
   "execution_count": 17,
   "metadata": {},
   "outputs": [
    {
     "name": "stdout",
     "output_type": "stream",
     "text": [
      "f1-score: 83.33%\n",
      "accuracy: 99.60%\n",
      "[[1972    3]\n",
      " [   5   20]]\n",
      "              precision    recall  f1-score   support\n",
      "\n",
      "           0       1.00      1.00      1.00      1975\n",
      "           1       0.87      0.80      0.83        25\n",
      "\n",
      "    accuracy                           1.00      2000\n",
      "   macro avg       0.93      0.90      0.92      2000\n",
      "weighted avg       1.00      1.00      1.00      2000\n",
      "\n"
     ]
    }
   ],
   "source": [
    "y_pred = model.predict(X_test)\n",
    "f1 = f1_score(y_test, y_pred)\n",
    "print(\"f1-score: %.2f%%\" % (f1 * 100.0))\n",
    "accuracy = accuracy_score(y_test, y_pred)\n",
    "print(\"accuracy: %.2f%%\" % (accuracy * 100.0))\n",
    "from sklearn.metrics import confusion_matrix\n",
    "print(confusion_matrix(y_test, y_pred))\n",
    "from sklearn.metrics import classification_report\n",
    "print(classification_report(y_test, y_pred))"
   ]
  },
  {
   "cell_type": "markdown",
   "metadata": {},
   "source": [
    "### SMOTE: um tipo especial de over-sampling (SMOTE: synthetic minority over-sampling technique)\n",
    "\n",
    "Primeiro passo é encontrar os vizinhos próximos para cada exemplo da classe minoritária. Em seguida, o algoritmo traça uma reta entre o ponto original e o vizinho para definir o exemplo sintético a ser gerado.\n"
   ]
  },
  {
   "cell_type": "code",
   "execution_count": 18,
   "metadata": {},
   "outputs": [
    {
     "name": "stdout",
     "output_type": "stream",
     "text": [
      "(8000, 20)\n",
      "(8000,)\n",
      "Counter({0: 7925, 1: 75})\n"
     ]
    }
   ],
   "source": [
    "print(X_train.shape)\n",
    "print(y_train.shape)\n",
    "from collections import Counter\n",
    "print(Counter(y_train))"
   ]
  },
  {
   "cell_type": "code",
   "execution_count": 20,
   "metadata": {},
   "outputs": [
    {
     "name": "stdout",
     "output_type": "stream",
     "text": [
      "(15850, 20)\n",
      "(15850,)\n",
      "Counter({0: 7925, 1: 7925})\n"
     ]
    }
   ],
   "source": [
    "from imblearn.over_sampling import SMOTE\n",
    "import warnings\n",
    "warnings.filterwarnings('ignore')\n",
    "\n",
    "sm = SMOTE(random_state=1234)\n",
    "\n",
    "X_train_res, y_train_res = sm.fit_resample(X_train, y_train)\n",
    "\n",
    "print(X_train_res.shape)\n",
    "print(y_train_res.shape)\n",
    "print(Counter(y_train_res))"
   ]
  },
  {
   "cell_type": "code",
   "execution_count": 21,
   "metadata": {},
   "outputs": [
    {
     "name": "stdout",
     "output_type": "stream",
     "text": [
      "f1-score: 72.13%\n",
      "accuracy: 99.15%\n",
      "[[1961   14]\n",
      " [   3   22]]\n",
      "              precision    recall  f1-score   support\n",
      "\n",
      "           0       1.00      0.99      1.00      1975\n",
      "           1       0.61      0.88      0.72        25\n",
      "\n",
      "    accuracy                           0.99      2000\n",
      "   macro avg       0.80      0.94      0.86      2000\n",
      "weighted avg       0.99      0.99      0.99      2000\n",
      "\n"
     ]
    }
   ],
   "source": [
    "model = GradientBoostingClassifier()\n",
    "model.fit(X_train_res, y_train_res)\n",
    "\n",
    "y_pred = model.predict(X_test)\n",
    "f1 = f1_score(y_test, y_pred)\n",
    "print(\"f1-score: %.2f%%\" % (f1 * 100.0))\n",
    "accuracy = accuracy_score(y_test, y_pred)\n",
    "print(\"accuracy: %.2f%%\" % (accuracy * 100.0))\n",
    "from sklearn.metrics import confusion_matrix\n",
    "print(confusion_matrix(y_test, y_pred))\n",
    "from sklearn.metrics import classification_report\n",
    "print(classification_report(y_test, y_pred))"
   ]
  },
  {
   "cell_type": "markdown",
   "metadata": {},
   "source": [
    "### Usando algoritmos que fazem under-sample ou over-sample internamente"
   ]
  },
  {
   "cell_type": "code",
   "execution_count": 52,
   "metadata": {},
   "outputs": [],
   "source": [
    "from imblearn.ensemble import BalancedRandomForestClassifier\n",
    "import warnings\n",
    "warnings.filterwarnings('ignore')\n",
    "from sklearn.metrics import f1_score, make_scorer\n",
    "from sklearn.model_selection import cross_val_score, cross_val_predict\n",
    "\n",
    "min_estimators = 100\n",
    "max_estimators = 2000\n",
    "step = 100\n",
    "result = []\n",
    "for i in range(min_estimators, max_estimators+step, step):\n",
    "    clf = BalancedRandomForestClassifier(n_estimators=i, max_depth=None, random_state=0)\n",
    "    s = make_scorer(f1_score, pos_label=1)\n",
    "    scores = cross_val_score(clf, X_train, y_train, cv=5, scoring=s)\n",
    "    result.append((i, scores.mean()))"
   ]
  },
  {
   "cell_type": "code",
   "execution_count": 53,
   "metadata": {},
   "outputs": [
    {
     "data": {
      "text/plain": [
       "[<matplotlib.lines.Line2D at 0x7ff44b527590>]"
      ]
     },
     "execution_count": 53,
     "metadata": {},
     "output_type": "execute_result"
    },
    {
     "data": {
      "image/png": "[encoded data removed]",
      "text/plain": [
       "<Figure size 432x288 with 1 Axes>"
      ]
     },
     "metadata": {
      "needs_background": "light"
     },
     "output_type": "display_data"
    }
   ],
   "source": [
    "import matplotlib.pyplot as plt\n",
    "plt.plot(*zip(*result))"
   ]
  },
  {
   "cell_type": "code",
   "execution_count": 54,
   "metadata": {},
   "outputs": [
    {
     "data": {
      "text/plain": [
       "(1900, 0.24458980050081744)"
      ]
     },
     "execution_count": 54,
     "metadata": {},
     "output_type": "execute_result"
    }
   ],
   "source": [
    "max(result,key=lambda item:item[1])"
   ]
  },
  {
   "cell_type": "code",
   "execution_count": 55,
   "metadata": {},
   "outputs": [
    {
     "name": "stdout",
     "output_type": "stream",
     "text": [
      "f1-score: 27.12%\n",
      "accuracy: 93.55%\n",
      "[[1847  128]\n",
      " [   1   24]]\n",
      "              precision    recall  f1-score   support\n",
      "\n",
      "           0       1.00      0.94      0.97      1975\n",
      "           1       0.16      0.96      0.27        25\n",
      "\n",
      "    accuracy                           0.94      2000\n",
      "   macro avg       0.58      0.95      0.62      2000\n",
      "weighted avg       0.99      0.94      0.96      2000\n",
      "\n"
     ]
    }
   ],
   "source": [
    "model = BalancedRandomForestClassifier(n_estimators=4000, max_depth=None, random_state=0)\n",
    "model.fit(X_train, y_train)\n",
    "\n",
    "y_pred = model.predict(X_test)\n",
    "f1 = f1_score(y_test, y_pred)\n",
    "print(\"f1-score: %.2f%%\" % (f1 * 100.0))\n",
    "accuracy = accuracy_score(y_test, y_pred)\n",
    "print(\"accuracy: %.2f%%\" % (accuracy * 100.0))\n",
    "from sklearn.metrics import confusion_matrix\n",
    "print(confusion_matrix(y_test, y_pred))\n",
    "from sklearn.metrics import classification_report\n",
    "print(classification_report(y_test, y_pred))"
   ]
  },
  {
   "cell_type": "markdown",
   "metadata": {},
   "source": [
    "## Referências\n",
    "\n",
    "* [SMOTE](../../references/smote.pdf)\n",
    "* [BalancedRandomForestClassifier](https://imbalanced-learn.readthedocs.io/en/stable/generated/imblearn.ensemble.BalancedRandomForestClassifier.html)\n",
    "\n"
   ]
  },
  {
   "cell_type": "code",
   "execution_count": null,
   "metadata": {},
   "outputs": [],
   "source": []
  }
 ],
 "metadata": {
  "kernelspec": {
   "display_name": "Python 3",
   "language": "python",
   "name": "python3"
  },
  "language_info": {
   "codemirror_mode": {
    "name": "ipython",
    "version": 3
   },
   "file_extension": ".py",
   "mimetype": "text/x-python",
   "name": "python",
   "nbconvert_exporter": "python",
   "pygments_lexer": "ipython3",
   "version": "3.7.6"
  }
 },
 "nbformat": 4,
 "nbformat_minor": 4
}
