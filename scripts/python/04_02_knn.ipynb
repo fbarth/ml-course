{
 "cells": [
  {
   "cell_type": "markdown",
   "metadata": {},
   "source": [
    "# Cálculo da distância e identificação do exemplo mais próximo"
   ]
  },
  {
   "cell_type": "code",
   "execution_count": 37,
   "metadata": {},
   "outputs": [
    {
     "data": {
      "image/png": "[encoded data removed]",
      "text/plain": [
       "<Figure size 432x288 with 1 Axes>"
      ]
     },
     "metadata": {},
     "output_type": "display_data"
    }
   ],
   "source": [
    "import seaborn as sns\n",
    "sns.set()\n",
    "\n",
    "df = pd.DataFrame({\n",
    "    'x': [0.15, 0.11, 0.12, 0.09, 0.10, 0.09, 0.12, 0.14, 0.16], \n",
    "    'y': [0.35, 0.22, 0.24, 0.30, 0.30, 0.28, 0.20, 0.33, 0.37], \n",
    "    'c': ['c3', 'c2', 'c2', 'c1', 'c1','c1','c2', 'c3', 'c3']})\n",
    "\n",
    "ax = sns.scatterplot(x=\"x\", y=\"y\",hue=\"c\", data= df)"
   ]
  },
  {
   "cell_type": "code",
   "execution_count": 38,
   "metadata": {},
   "outputs": [
    {
     "name": "stdout",
     "output_type": "stream",
     "text": [
      "(array([[0.03]]), array([[7]]))\n"
     ]
    }
   ],
   "source": [
    "new_point = [[0.14, 0.3]]\n",
    "from sklearn.neighbors import NearestNeighbors\n",
    "neigh = NearestNeighbors(n_neighbors=1)\n",
    "neigh.fit(df[['x','y']], df['c'])\n",
    "print(neigh.kneighbors(new_point))"
   ]
  },
  {
   "cell_type": "markdown",
   "metadata": {},
   "source": [
    "# Considerando valores com escalas diferentes"
   ]
  },
  {
   "cell_type": "code",
   "execution_count": 47,
   "metadata": {},
   "outputs": [
    {
     "data": {
      "image/png": "[encoded data removed]",
      "text/plain": [
       "<Figure size 432x288 with 1 Axes>"
      ]
     },
     "metadata": {},
     "output_type": "display_data"
    }
   ],
   "source": [
    "df = pd.DataFrame({\n",
    "    'x': [0.15, 0.11, 0.12, 0.09, 0.10, 0.09, 0.12, 0.14, 0.16], \n",
    "    'y': [35.0, 22.0, 24.0, 30.0, 30.0, 28.0, 20.0, 33.0, 37.0], \n",
    "    'c': ['c3', 'c2', 'c2', 'c1', 'c1','c1','c2', 'c3', 'c3']})\n",
    "\n",
    "ax = sns.scatterplot(x=\"x\", y=\"y\",hue=\"c\", data= df)"
   ]
  },
  {
   "cell_type": "code",
   "execution_count": 48,
   "metadata": {},
   "outputs": [
    {
     "name": "stdout",
     "output_type": "stream",
     "text": [
      "(array([[0.04]]), array([[4]]))\n"
     ]
    }
   ],
   "source": [
    "new_point = [[0.14, 30]]\n",
    "\n",
    "neigh = NearestNeighbors(n_neighbors=1)\n",
    "neigh.fit(df[['x','y']], df['c'])\n",
    "print(neigh.kneighbors(new_point))"
   ]
  },
  {
   "cell_type": "markdown",
   "metadata": {},
   "source": [
    "Percebe-se a necessidade de normalizar os valores dos atributos"
   ]
  },
  {
   "cell_type": "markdown",
   "metadata": {},
   "source": [
    "# Uso do Knn com dados normalizados"
   ]
  },
  {
   "cell_type": "code",
   "execution_count": 56,
   "metadata": {},
   "outputs": [
    {
     "data": {
      "text/html": [
       "<div>\n",
       "<style scoped>\n",
       "    .dataframe tbody tr th:only-of-type {\n",
       "        vertical-align: middle;\n",
       "    }\n",
       "\n",
       "    .dataframe tbody tr th {\n",
       "        vertical-align: top;\n",
       "    }\n",
       "\n",
       "    .dataframe thead th {\n",
       "        text-align: right;\n",
       "    }\n",
       "</style>\n",
       "<table border=\"1\" class=\"dataframe\">\n",
       "  <thead>\n",
       "    <tr style=\"text-align: right;\">\n",
       "      <th></th>\n",
       "      <th>x</th>\n",
       "      <th>y</th>\n",
       "      <th>c</th>\n",
       "    </tr>\n",
       "  </thead>\n",
       "  <tbody>\n",
       "    <tr>\n",
       "      <th>0</th>\n",
       "      <td>0.857143</td>\n",
       "      <td>0.882353</td>\n",
       "      <td>c3</td>\n",
       "    </tr>\n",
       "    <tr>\n",
       "      <th>1</th>\n",
       "      <td>0.285714</td>\n",
       "      <td>0.117647</td>\n",
       "      <td>c2</td>\n",
       "    </tr>\n",
       "    <tr>\n",
       "      <th>2</th>\n",
       "      <td>0.428571</td>\n",
       "      <td>0.235294</td>\n",
       "      <td>c2</td>\n",
       "    </tr>\n",
       "    <tr>\n",
       "      <th>3</th>\n",
       "      <td>0.000000</td>\n",
       "      <td>0.588235</td>\n",
       "      <td>c1</td>\n",
       "    </tr>\n",
       "    <tr>\n",
       "      <th>4</th>\n",
       "      <td>0.142857</td>\n",
       "      <td>0.588235</td>\n",
       "      <td>c1</td>\n",
       "    </tr>\n",
       "    <tr>\n",
       "      <th>5</th>\n",
       "      <td>0.000000</td>\n",
       "      <td>0.470588</td>\n",
       "      <td>c1</td>\n",
       "    </tr>\n",
       "    <tr>\n",
       "      <th>6</th>\n",
       "      <td>0.428571</td>\n",
       "      <td>0.000000</td>\n",
       "      <td>c2</td>\n",
       "    </tr>\n",
       "    <tr>\n",
       "      <th>7</th>\n",
       "      <td>0.714286</td>\n",
       "      <td>0.764706</td>\n",
       "      <td>c3</td>\n",
       "    </tr>\n",
       "    <tr>\n",
       "      <th>8</th>\n",
       "      <td>1.000000</td>\n",
       "      <td>1.000000</td>\n",
       "      <td>c3</td>\n",
       "    </tr>\n",
       "  </tbody>\n",
       "</table>\n",
       "</div>"
      ],
      "text/plain": [
       "          x         y   c\n",
       "0  0.857143  0.882353  c3\n",
       "1  0.285714  0.117647  c2\n",
       "2  0.428571  0.235294  c2\n",
       "3  0.000000  0.588235  c1\n",
       "4  0.142857  0.588235  c1\n",
       "5  0.000000  0.470588  c1\n",
       "6  0.428571  0.000000  c2\n",
       "7  0.714286  0.764706  c3\n",
       "8  1.000000  1.000000  c3"
      ]
     },
     "execution_count": 56,
     "metadata": {},
     "output_type": "execute_result"
    }
   ],
   "source": [
    "from sklearn import preprocessing\n",
    "\n",
    "scaler = preprocessing.MinMaxScaler()\n",
    "scaler.fit(df[['x','y']])\n",
    "\n",
    "df_normalized = scaler.transform(df[['x','y']])\n",
    "df_normalized = pd.DataFrame(df_normalized, columns = ['x', 'y'])\n",
    "df_normalized['c'] = df['c']\n",
    "df_normalized"
   ]
  },
  {
   "cell_type": "code",
   "execution_count": 57,
   "metadata": {},
   "outputs": [
    {
     "data": {
      "image/png": "[encoded data removed]",
      "text/plain": [
       "<Figure size 432x288 with 1 Axes>"
      ]
     },
     "metadata": {},
     "output_type": "display_data"
    }
   ],
   "source": [
    "ax = sns.scatterplot(x=\"x\", y=\"y\",hue=\"c\", data= df_normalized)"
   ]
  },
  {
   "cell_type": "code",
   "execution_count": 59,
   "metadata": {},
   "outputs": [
    {
     "name": "stdout",
     "output_type": "stream",
     "text": [
      "[[0.71428571 0.58823529]]\n",
      "(array([[0.17647059]]), array([[7]]))\n"
     ]
    }
   ],
   "source": [
    "neigh = NearestNeighbors(n_neighbors=1)\n",
    "neigh.fit(df_normalized[['x','y']], df_normalized['c'])\n",
    "\n",
    "new_point = [[0.14, 30]]\n",
    "t = scaler.transform(new_point)\n",
    "print(t)\n",
    "print(neigh.kneighbors(t))"
   ]
  },
  {
   "cell_type": "code",
   "execution_count": null,
   "metadata": {},
   "outputs": [],
   "source": []
  }
 ],
 "metadata": {
  "kernelspec": {
   "display_name": "Python 3.6",
   "language": "python",
   "name": "python3"
  },
  "language_info": {
   "codemirror_mode": {
    "name": "ipython",
    "version": 3
   },
   "file_extension": ".py",
   "mimetype": "text/x-python",
   "name": "python",
   "nbconvert_exporter": "python",
   "pygments_lexer": "ipython3",
   "version": "3.6.8"
  }
 },
 "nbformat": 4,
 "nbformat_minor": 1
}
