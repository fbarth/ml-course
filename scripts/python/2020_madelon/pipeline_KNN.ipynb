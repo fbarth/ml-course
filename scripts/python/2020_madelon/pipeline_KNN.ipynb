{
 "cells": [
  {
   "cell_type": "markdown",
   "metadata": {},
   "source": [
    "# Pipeline considerando KNN"
   ]
  },
  {
   "cell_type": "code",
   "execution_count": 1,
   "metadata": {},
   "outputs": [
    {
     "data": {
      "text/html": [
       "<div>\n",
       "<style scoped>\n",
       "    .dataframe tbody tr th:only-of-type {\n",
       "        vertical-align: middle;\n",
       "    }\n",
       "\n",
       "    .dataframe tbody tr th {\n",
       "        vertical-align: top;\n",
       "    }\n",
       "\n",
       "    .dataframe thead th {\n",
       "        text-align: right;\n",
       "    }\n",
       "</style>\n",
       "<table border=\"1\" class=\"dataframe\">\n",
       "  <thead>\n",
       "    <tr style=\"text-align: right;\">\n",
       "      <th></th>\n",
       "      <th>0</th>\n",
       "      <th>1</th>\n",
       "      <th>2</th>\n",
       "      <th>3</th>\n",
       "      <th>4</th>\n",
       "      <th>5</th>\n",
       "      <th>6</th>\n",
       "      <th>7</th>\n",
       "      <th>8</th>\n",
       "      <th>9</th>\n",
       "      <th>...</th>\n",
       "      <th>491</th>\n",
       "      <th>492</th>\n",
       "      <th>493</th>\n",
       "      <th>494</th>\n",
       "      <th>495</th>\n",
       "      <th>496</th>\n",
       "      <th>497</th>\n",
       "      <th>498</th>\n",
       "      <th>499</th>\n",
       "      <th>target</th>\n",
       "    </tr>\n",
       "  </thead>\n",
       "  <tbody>\n",
       "    <tr>\n",
       "      <th>0</th>\n",
       "      <td>0.560976</td>\n",
       "      <td>0.438356</td>\n",
       "      <td>0.588028</td>\n",
       "      <td>0.393939</td>\n",
       "      <td>0.255521</td>\n",
       "      <td>0.260870</td>\n",
       "      <td>0.566787</td>\n",
       "      <td>0.5</td>\n",
       "      <td>0.424528</td>\n",
       "      <td>0.375000</td>\n",
       "      <td>...</td>\n",
       "      <td>0.529412</td>\n",
       "      <td>0.491429</td>\n",
       "      <td>0.449367</td>\n",
       "      <td>0.578947</td>\n",
       "      <td>0.330798</td>\n",
       "      <td>0.558140</td>\n",
       "      <td>0.44</td>\n",
       "      <td>0.398577</td>\n",
       "      <td>0.516667</td>\n",
       "      <td>-1</td>\n",
       "    </tr>\n",
       "    <tr>\n",
       "      <th>1</th>\n",
       "      <td>0.512195</td>\n",
       "      <td>0.351598</td>\n",
       "      <td>0.316901</td>\n",
       "      <td>0.515152</td>\n",
       "      <td>0.681388</td>\n",
       "      <td>0.347826</td>\n",
       "      <td>0.693141</td>\n",
       "      <td>0.8</td>\n",
       "      <td>0.518868</td>\n",
       "      <td>0.291667</td>\n",
       "      <td>...</td>\n",
       "      <td>0.441176</td>\n",
       "      <td>0.548571</td>\n",
       "      <td>0.263291</td>\n",
       "      <td>0.587045</td>\n",
       "      <td>0.334601</td>\n",
       "      <td>0.604651</td>\n",
       "      <td>0.57</td>\n",
       "      <td>0.523132</td>\n",
       "      <td>0.633333</td>\n",
       "      <td>-1</td>\n",
       "    </tr>\n",
       "    <tr>\n",
       "      <th>2</th>\n",
       "      <td>0.609756</td>\n",
       "      <td>0.735160</td>\n",
       "      <td>0.454225</td>\n",
       "      <td>0.227273</td>\n",
       "      <td>0.242902</td>\n",
       "      <td>0.260870</td>\n",
       "      <td>0.389892</td>\n",
       "      <td>0.7</td>\n",
       "      <td>0.471698</td>\n",
       "      <td>0.458333</td>\n",
       "      <td>...</td>\n",
       "      <td>0.529412</td>\n",
       "      <td>0.577143</td>\n",
       "      <td>0.658228</td>\n",
       "      <td>0.558704</td>\n",
       "      <td>0.391635</td>\n",
       "      <td>0.534884</td>\n",
       "      <td>0.54</td>\n",
       "      <td>0.483986</td>\n",
       "      <td>0.527778</td>\n",
       "      <td>-1</td>\n",
       "    </tr>\n",
       "    <tr>\n",
       "      <th>3</th>\n",
       "      <td>0.439024</td>\n",
       "      <td>0.502283</td>\n",
       "      <td>0.492958</td>\n",
       "      <td>0.484848</td>\n",
       "      <td>0.391167</td>\n",
       "      <td>0.282609</td>\n",
       "      <td>0.299639</td>\n",
       "      <td>0.3</td>\n",
       "      <td>0.679245</td>\n",
       "      <td>0.437500</td>\n",
       "      <td>...</td>\n",
       "      <td>0.500000</td>\n",
       "      <td>0.474286</td>\n",
       "      <td>0.559494</td>\n",
       "      <td>0.348178</td>\n",
       "      <td>0.269962</td>\n",
       "      <td>0.418605</td>\n",
       "      <td>0.47</td>\n",
       "      <td>0.466192</td>\n",
       "      <td>0.322222</td>\n",
       "      <td>1</td>\n",
       "    </tr>\n",
       "    <tr>\n",
       "      <th>4</th>\n",
       "      <td>0.536585</td>\n",
       "      <td>0.552511</td>\n",
       "      <td>0.556338</td>\n",
       "      <td>0.545455</td>\n",
       "      <td>0.299685</td>\n",
       "      <td>0.478261</td>\n",
       "      <td>0.245487</td>\n",
       "      <td>0.7</td>\n",
       "      <td>0.537736</td>\n",
       "      <td>0.270833</td>\n",
       "      <td>...</td>\n",
       "      <td>0.470588</td>\n",
       "      <td>0.348571</td>\n",
       "      <td>0.386076</td>\n",
       "      <td>0.477733</td>\n",
       "      <td>0.418251</td>\n",
       "      <td>0.558140</td>\n",
       "      <td>0.69</td>\n",
       "      <td>0.469751</td>\n",
       "      <td>0.600000</td>\n",
       "      <td>1</td>\n",
       "    </tr>\n",
       "  </tbody>\n",
       "</table>\n",
       "<p>5 rows × 501 columns</p>\n",
       "</div>"
      ],
      "text/plain": [
       "          0         1         2         3         4         5         6    7  \\\n",
       "0  0.560976  0.438356  0.588028  0.393939  0.255521  0.260870  0.566787  0.5   \n",
       "1  0.512195  0.351598  0.316901  0.515152  0.681388  0.347826  0.693141  0.8   \n",
       "2  0.609756  0.735160  0.454225  0.227273  0.242902  0.260870  0.389892  0.7   \n",
       "3  0.439024  0.502283  0.492958  0.484848  0.391167  0.282609  0.299639  0.3   \n",
       "4  0.536585  0.552511  0.556338  0.545455  0.299685  0.478261  0.245487  0.7   \n",
       "\n",
       "          8         9  ...       491       492       493       494       495  \\\n",
       "0  0.424528  0.375000  ...  0.529412  0.491429  0.449367  0.578947  0.330798   \n",
       "1  0.518868  0.291667  ...  0.441176  0.548571  0.263291  0.587045  0.334601   \n",
       "2  0.471698  0.458333  ...  0.529412  0.577143  0.658228  0.558704  0.391635   \n",
       "3  0.679245  0.437500  ...  0.500000  0.474286  0.559494  0.348178  0.269962   \n",
       "4  0.537736  0.270833  ...  0.470588  0.348571  0.386076  0.477733  0.418251   \n",
       "\n",
       "        496   497       498       499  target  \n",
       "0  0.558140  0.44  0.398577  0.516667      -1  \n",
       "1  0.604651  0.57  0.523132  0.633333      -1  \n",
       "2  0.534884  0.54  0.483986  0.527778      -1  \n",
       "3  0.418605  0.47  0.466192  0.322222       1  \n",
       "4  0.558140  0.69  0.469751  0.600000       1  \n",
       "\n",
       "[5 rows x 501 columns]"
      ]
     },
     "execution_count": 1,
     "metadata": {},
     "output_type": "execute_result"
    }
   ],
   "source": [
    "import pandas as pd\n",
    "df = pd.read_csv(\"../../../data/madelon_post_eda_train.csv\")\n",
    "df = df.drop(columns=['Unnamed: 0'])\n",
    "df.head()"
   ]
  },
  {
   "cell_type": "code",
   "execution_count": 2,
   "metadata": {},
   "outputs": [],
   "source": [
    "y = df['target']\n",
    "df = df.drop(columns=['target'])"
   ]
  },
  {
   "cell_type": "code",
   "execution_count": 3,
   "metadata": {},
   "outputs": [
    {
     "name": "stdout",
     "output_type": "stream",
     "text": [
      "Best estimator: 49\n"
     ]
    },
    {
     "data": {
      "text/plain": [
       "<AxesSubplot:xlabel='estimators', ylabel='score'>"
      ]
     },
     "execution_count": 3,
     "metadata": {},
     "output_type": "execute_result"
    },
    {
     "data": {
      "image/png": "[encoded data removed]",
      "text/plain": [
       "<Figure size 432x288 with 1 Axes>"
      ]
     },
     "metadata": {},
     "output_type": "display_data"
    }
   ],
   "source": [
    "import seaborn as sns\n",
    "import numpy as np\n",
    "from sklearn.neighbors import KNeighborsClassifier\n",
    "from sklearn.metrics import recall_score, make_scorer\n",
    "from sklearn.model_selection import cross_val_score, cross_val_predict\n",
    "\n",
    "# loop to find best number of estimators based on accuracy score\n",
    "result = []\n",
    "best_score = 0\n",
    "best_estimator = 0\n",
    "\n",
    "for i in range(1, 81):\n",
    "    modelK = KNeighborsClassifier(n_neighbors=i)\n",
    "    modelK.fit(df, y)\n",
    "    scores = cross_val_score(modelK, df, y, cv=5)\n",
    "    if (scores.mean() > best_score):\n",
    "        best_estimator = i\n",
    "        best_score = scores.mean()\n",
    "    result.append((i, scores.mean()))\n",
    "    \n",
    "# converting result into dataframe\n",
    "estimators = np.array(result)[:,0]\n",
    "score = np.array(result)[:,1]\n",
    "d = {'estimators': estimators, 'score': score}\n",
    "df_scores = pd.DataFrame(d)\n",
    "print(f'Best estimator: {best_estimator}')\n",
    "\n",
    "sns.set_theme(style=\"dark\")\n",
    "sns.set_palette(\"colorblind\")\n",
    "sns.lineplot(\n",
    "        data=df_scores,\n",
    "        x=\"estimators\", \n",
    "        y=\"score\"\n",
    "    )"
   ]
  },
  {
   "cell_type": "code",
   "execution_count": 4,
   "metadata": {},
   "outputs": [
    {
     "name": "stdout",
     "output_type": "stream",
     "text": [
      "accuracy_score: 0.63150 (+/- 0.01693)\n"
     ]
    }
   ],
   "source": [
    "import seaborn as sns\n",
    "import numpy as np\n",
    "from sklearn.metrics import recall_score, make_scorer\n",
    "from sklearn.model_selection import cross_val_score, cross_val_predict\n",
    "\n",
    "modelK = KNeighborsClassifier(n_neighbors=best_estimator)\n",
    "modelK.fit(df, y)\n",
    "\n",
    "scores = cross_val_score(modelK, df, y, cv=5)\n",
    "y_pred = cross_val_predict(modelK, df, y, cv=5)\n",
    "print(\"accuracy_score: %0.5f (+/- %0.5f)\" % (scores.mean(), scores.std()))"
   ]
  },
  {
   "cell_type": "code",
   "execution_count": 5,
   "metadata": {},
   "outputs": [
    {
     "name": "stdout",
     "output_type": "stream",
     "text": [
      "[[752 248]\n",
      " [489 511]]\n",
      "              precision    recall  f1-score   support\n",
      "\n",
      "          -1       0.61      0.75      0.67      1000\n",
      "           1       0.67      0.51      0.58      1000\n",
      "\n",
      "    accuracy                           0.63      2000\n",
      "   macro avg       0.64      0.63      0.63      2000\n",
      "weighted avg       0.64      0.63      0.63      2000\n",
      "\n"
     ]
    }
   ],
   "source": [
    "from sklearn.metrics import confusion_matrix\n",
    "from sklearn.metrics import classification_report, plot_confusion_matrix\n",
    "\n",
    "# printing confusion matrix\n",
    "print(confusion_matrix(y, y_pred))\n",
    "print(classification_report(y, y_pred))"
   ]
  },
  {
   "cell_type": "code",
   "execution_count": null,
   "metadata": {},
   "outputs": [],
   "source": []
  }
 ],
 "metadata": {
  "kernelspec": {
   "display_name": "Python 3",
   "language": "python",
   "name": "python3"
  },
  "language_info": {
   "codemirror_mode": {
    "name": "ipython",
    "version": 3
   },
   "file_extension": ".py",
   "mimetype": "text/x-python",
   "name": "python",
   "nbconvert_exporter": "python",
   "pygments_lexer": "ipython3",
   "version": "3.7.6"
  }
 },
 "nbformat": 4,
 "nbformat_minor": 4
}
