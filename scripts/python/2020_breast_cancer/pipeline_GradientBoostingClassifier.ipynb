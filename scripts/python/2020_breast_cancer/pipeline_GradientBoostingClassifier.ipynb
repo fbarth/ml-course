{
 "cells": [
  {
   "cell_type": "code",
   "execution_count": 1,
   "metadata": {
    "scrolled": false
   },
   "outputs": [
    {
     "name": "stdout",
     "output_type": "stream",
     "text": [
      "  diagnosis  radius_mean  texture_mean  perimeter_mean  area_mean  \\\n",
      "0         B        10.26         14.71           66.20      321.6   \n",
      "1         B        12.43         17.00           78.60      477.3   \n",
      "2         M        17.20         24.52          114.20      929.4   \n",
      "3         B        14.26         18.17           91.22      633.1   \n",
      "4         B         7.76         24.54           47.92      181.0   \n",
      "\n",
      "   smoothness_mean  compactness_mean  concavity_mean  concave points_mean  \\\n",
      "0          0.09882           0.09159         0.03581              0.02037   \n",
      "1          0.07557           0.03454         0.01342              0.01699   \n",
      "2          0.10710           0.18300         0.16920              0.07944   \n",
      "3          0.06576           0.05220         0.02475              0.01374   \n",
      "4          0.05263           0.04362         0.00000              0.00000   \n",
      "\n",
      "   symmetry_mean  ...  radius_worst  texture_worst  perimeter_worst  \\\n",
      "0         0.1633  ...        10.880          19.48            70.89   \n",
      "1         0.1472  ...        12.900          20.21            81.76   \n",
      "2         0.1927  ...        23.320          33.82           151.60   \n",
      "3         0.1635  ...        16.220          25.26           105.80   \n",
      "4         0.1587  ...         9.456          30.37            59.16   \n",
      "\n",
      "   area_worst  smoothness_worst  compactness_worst  concavity_worst  \\\n",
      "0       357.1           0.13600            0.16360          0.07162   \n",
      "1       515.9           0.08409            0.04712          0.02237   \n",
      "2      1681.0           0.15850            0.73940          0.65660   \n",
      "3       819.7           0.09445            0.21670          0.15650   \n",
      "4       268.6           0.08996            0.06444          0.00000   \n",
      "\n",
      "   concave points_worst  symmetry_worst  fractal_dimension_worst  \n",
      "0               0.04074          0.2434                  0.08488  \n",
      "1               0.02832          0.1901                  0.05932  \n",
      "2               0.18990          0.3313                  0.13390  \n",
      "3               0.07530          0.2636                  0.07676  \n",
      "4               0.00000          0.2871                  0.07039  \n",
      "\n",
      "[5 rows x 31 columns]\n",
      "(512, 30)\n",
      "(512,)\n"
     ]
    }
   ],
   "source": [
    "import pandas as pd\n",
    "# reading pre-formatted dataset\n",
    "X_train = pd.read_csv(\"../../../dataset/base_train.csv\") \n",
    "X_train = X_train.drop(columns=['Unnamed: 0'])\n",
    "\n",
    "df_diagnosis = pd.read_csv(\"../../../dataset/base_train_answer.csv\") \n",
    "df_diagnosis = df_diagnosis.drop(columns=['Unnamed: 0'])\n",
    "y_train = df_diagnosis['diagnosis'].ravel()\n",
    "\n",
    "# joining info and diagnosis into one df\n",
    "df_full = pd.concat([df_diagnosis, X_train], axis=1)\n",
    "df_full.head()\n",
    "\n",
    "print(df_full.head())\n",
    "\n",
    "print(X_train.shape)\n",
    "print(y_train.shape)"
   ]
  },
  {
   "cell_type": "code",
   "execution_count": 2,
   "metadata": {},
   "outputs": [
    {
     "name": "stdout",
     "output_type": "stream",
     "text": [
      "Best estimator: 200\n",
      "    estimators     score\n",
      "0        100.0  0.928333\n",
      "1        150.0  0.928333\n",
      "2        200.0  0.938462\n",
      "3        250.0  0.933333\n",
      "4        300.0  0.933333\n",
      "5        350.0  0.933333\n",
      "6        400.0  0.933333\n",
      "7        450.0  0.933333\n",
      "8        500.0  0.933333\n",
      "9        550.0  0.933333\n",
      "10       600.0  0.933333\n",
      "11       650.0  0.933333\n",
      "12       700.0  0.933333\n",
      "13       750.0  0.933333\n",
      "14       800.0  0.933333\n",
      "15       850.0  0.933333\n",
      "16       900.0  0.933333\n",
      "17       950.0  0.933333\n",
      "18      1000.0  0.933333\n"
     ]
    },
    {
     "data": {
      "text/plain": [
       "<AxesSubplot:xlabel='estimators', ylabel='score'>"
      ]
     },
     "execution_count": 2,
     "metadata": {},
     "output_type": "execute_result"
    },
    {
     "data": {
      "image/png": "[encoded data removed]",
      "text/plain": [
       "<Figure size 432x288 with 1 Axes>"
      ]
     },
     "metadata": {},
     "output_type": "display_data"
    }
   ],
   "source": [
    "import seaborn as sns\n",
    "import numpy as np\n",
    "from sklearn.ensemble import GradientBoostingClassifier\n",
    "from sklearn.metrics import recall_score, make_scorer\n",
    "from sklearn.model_selection import cross_val_score, cross_val_predict\n",
    "\n",
    "# loop to find best number of estimators\n",
    "min_estimators = 100\n",
    "max_estimators = 1000\n",
    "step = 50\n",
    "result = []\n",
    "best_score = 0\n",
    "best_estimator = 0\n",
    "\n",
    "for i in range(min_estimators, max_estimators+step, step):\n",
    "    clf = GradientBoostingClassifier(\n",
    "        n_estimators=i, \n",
    "        random_state=0)\n",
    "    \n",
    "    s = make_scorer(recall_score, pos_label='M')\n",
    "    scores = cross_val_score(clf, X_train, y_train, cv=5, scoring=s)\n",
    "    if (scores.mean() > best_score):\n",
    "        best_estimator = i\n",
    "        best_score = scores.mean()\n",
    "    result.append((i, scores.mean()))\n",
    "    \n",
    "# converting result into dataframe\n",
    "estimators = np.array(result)[:,0]\n",
    "score = np.array(result)[:,1]\n",
    "d = {'estimators': estimators, 'score': score}\n",
    "df_scores = pd.DataFrame(d)\n",
    "print(f'Best estimator: {best_estimator}')\n",
    "print(df_scores)\n",
    "\n",
    "# plotting results\n",
    "sns.set_theme(style=\"dark\")\n",
    "sns.set_palette(\"colorblind\")\n",
    "sns.lineplot(\n",
    "        data=df_scores,\n",
    "        x=\"estimators\", \n",
    "        y=\"score\"\n",
    "    )\n",
    "\n",
    "# best and smallest number of estimators using above loop was 200"
   ]
  },
  {
   "cell_type": "code",
   "execution_count": 3,
   "metadata": {},
   "outputs": [
    {
     "name": "stdout",
     "output_type": "stream",
     "text": [
      "recall_score: 0.93846 (+/- 0.06196)\n"
     ]
    }
   ],
   "source": [
    "clf = GradientBoostingClassifier(\n",
    "        n_estimators=200,\n",
    "        random_state=0)\n",
    "s = make_scorer(recall_score, pos_label='M')\n",
    "scores = cross_val_score(clf, X_train, y_train, cv=5, scoring=s)\n",
    "y_pred = cross_val_predict(clf, X_train, y_train, cv=5)\n",
    "print(\"recall_score: %0.5f (+/- %0.5f)\" % (scores.mean(), scores.std()))"
   ]
  },
  {
   "cell_type": "code",
   "execution_count": 4,
   "metadata": {},
   "outputs": [
    {
     "name": "stdout",
     "output_type": "stream",
     "text": [
      "[[311   5]\n",
      " [ 12 184]]\n",
      "              precision    recall  f1-score   support\n",
      "\n",
      "           B       0.96      0.98      0.97       316\n",
      "           M       0.97      0.94      0.96       196\n",
      "\n",
      "    accuracy                           0.97       512\n",
      "   macro avg       0.97      0.96      0.96       512\n",
      "weighted avg       0.97      0.97      0.97       512\n",
      "\n"
     ]
    }
   ],
   "source": [
    "from sklearn.metrics import confusion_matrix\n",
    "from sklearn.metrics import classification_report, plot_confusion_matrix\n",
    "\n",
    "print(confusion_matrix(y_train, y_pred))\n",
    "print(classification_report(y_train, y_pred))"
   ]
  },
  {
   "cell_type": "code",
   "execution_count": null,
   "metadata": {},
   "outputs": [],
   "source": []
  }
 ],
 "metadata": {
  "kernelspec": {
   "display_name": "Python 3",
   "language": "python",
   "name": "python3"
  },
  "language_info": {
   "codemirror_mode": {
    "name": "ipython",
    "version": 3
   },
   "file_extension": ".py",
   "mimetype": "text/x-python",
   "name": "python",
   "nbconvert_exporter": "python",
   "pygments_lexer": "ipython3",
   "version": "3.7.6"
  }
 },
 "nbformat": 4,
 "nbformat_minor": 4
}
