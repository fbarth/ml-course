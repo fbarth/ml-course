{
 "cells": [
  {
   "cell_type": "code",
   "execution_count": 1,
   "metadata": {
    "scrolled": false
   },
   "outputs": [
    {
     "name": "stdout",
     "output_type": "stream",
     "text": [
      "  diagnosis  radius_mean  texture_mean  perimeter_mean  area_mean  \\\n",
      "0         B        10.26         14.71           66.20      321.6   \n",
      "1         B        12.43         17.00           78.60      477.3   \n",
      "2         M        17.20         24.52          114.20      929.4   \n",
      "3         B        14.26         18.17           91.22      633.1   \n",
      "4         B         7.76         24.54           47.92      181.0   \n",
      "\n",
      "   smoothness_mean  compactness_mean  concavity_mean  concave points_mean  \\\n",
      "0          0.09882           0.09159         0.03581              0.02037   \n",
      "1          0.07557           0.03454         0.01342              0.01699   \n",
      "2          0.10710           0.18300         0.16920              0.07944   \n",
      "3          0.06576           0.05220         0.02475              0.01374   \n",
      "4          0.05263           0.04362         0.00000              0.00000   \n",
      "\n",
      "   symmetry_mean  ...  radius_worst  texture_worst  perimeter_worst  \\\n",
      "0         0.1633  ...        10.880          19.48            70.89   \n",
      "1         0.1472  ...        12.900          20.21            81.76   \n",
      "2         0.1927  ...        23.320          33.82           151.60   \n",
      "3         0.1635  ...        16.220          25.26           105.80   \n",
      "4         0.1587  ...         9.456          30.37            59.16   \n",
      "\n",
      "   area_worst  smoothness_worst  compactness_worst  concavity_worst  \\\n",
      "0       357.1           0.13600            0.16360          0.07162   \n",
      "1       515.9           0.08409            0.04712          0.02237   \n",
      "2      1681.0           0.15850            0.73940          0.65660   \n",
      "3       819.7           0.09445            0.21670          0.15650   \n",
      "4       268.6           0.08996            0.06444          0.00000   \n",
      "\n",
      "   concave points_worst  symmetry_worst  fractal_dimension_worst  \n",
      "0               0.04074          0.2434                  0.08488  \n",
      "1               0.02832          0.1901                  0.05932  \n",
      "2               0.18990          0.3313                  0.13390  \n",
      "3               0.07530          0.2636                  0.07676  \n",
      "4               0.00000          0.2871                  0.07039  \n",
      "\n",
      "[5 rows x 31 columns]\n",
      "(512, 30)\n",
      "(512,)\n"
     ]
    }
   ],
   "source": [
    "import pandas as pd\n",
    "# reading pre-formatted dataset\n",
    "X_train = pd.read_csv(\"../../../dataset/base_train.csv\") \n",
    "X_train = X_train.drop(columns=['Unnamed: 0'])\n",
    "\n",
    "df_diagnosis = pd.read_csv(\"../../../dataset/base_train_answer.csv\") \n",
    "df_diagnosis = df_diagnosis.drop(columns=['Unnamed: 0'])\n",
    "y_train = df_diagnosis['diagnosis'].ravel()\n",
    "\n",
    "# joining info and diagnosis into one df\n",
    "df_full = pd.concat([df_diagnosis, X_train], axis=1)\n",
    "df_full.head()\n",
    "\n",
    "print(df_full.head())\n",
    "\n",
    "print(X_train.shape)\n",
    "print(y_train.shape)"
   ]
  },
  {
   "cell_type": "code",
   "execution_count": 2,
   "metadata": {},
   "outputs": [
    {
     "name": "stdout",
     "output_type": "stream",
     "text": [
      "   radius_mean  texture_mean  perimeter_mean  area_mean  smoothness_mean  \\\n",
      "0     0.155190      0.169090        0.154861   0.075546         0.416990   \n",
      "1     0.257892      0.246534        0.240550   0.141591         0.207096   \n",
      "2     0.483648      0.500845        0.486559   0.333362         0.491740   \n",
      "3     0.344503      0.286101        0.327759   0.207678         0.118534   \n",
      "4     0.036869      0.501522        0.028540   0.015907         0.000000   \n",
      "\n",
      "   compactness_mean  concavity_mean  concave points_mean  symmetry_mean  \\\n",
      "0          0.221489        0.083903             0.101243       0.289394   \n",
      "1          0.046500        0.031443             0.084443       0.208081   \n",
      "2          0.501871        0.396439             0.394831       0.437879   \n",
      "3          0.100669        0.057990             0.068290       0.290404   \n",
      "4          0.074351        0.000000             0.000000       0.266162   \n",
      "\n",
      "   fractal_dimension_mean  ...  radius_worst  texture_worst  perimeter_worst  \\\n",
      "0                0.438742  ...      0.104945       0.198827         0.101997   \n",
      "1                0.123389  ...      0.176805       0.218284         0.156133   \n",
      "2                0.325617  ...      0.547492       0.581023         0.503959   \n",
      "3                0.128849  ...      0.294913       0.352878         0.275860   \n",
      "4                0.193929  ...      0.054287       0.489072         0.043578   \n",
      "\n",
      "   area_worst  smoothness_worst  compactness_worst  concavity_worst  \\\n",
      "0    0.042248          0.387336           0.126289         0.061214   \n",
      "1    0.081277          0.020092           0.012504         0.019120   \n",
      "2    0.367627          0.546516           0.688770         0.561197   \n",
      "3    0.155943          0.093385           0.178161         0.133761   \n",
      "4    0.020497          0.061620           0.029423         0.000000   \n",
      "\n",
      "   concave points_worst  symmetry_worst  fractal_dimension_worst  \n",
      "0              0.140000        0.206462                 0.195723  \n",
      "1              0.097320        0.079829                 0.028073  \n",
      "2              0.652577        0.415301                 0.517250  \n",
      "3              0.258763        0.254455                 0.142464  \n",
      "4              0.000000        0.310287                 0.100682  \n",
      "\n",
      "[5 rows x 30 columns]\n"
     ]
    }
   ],
   "source": [
    "# normalizing test dataframe\n",
    "\n",
    "from sklearn import preprocessing\n",
    "min_max_scaler = preprocessing.MinMaxScaler()\n",
    "X_train_scaled = pd.DataFrame(\n",
    "    min_max_scaler.fit_transform(X_train), \n",
    "        index=X_train.index, \n",
    "        columns=X_train.columns\n",
    "    )\n",
    "\n",
    "print(X_train_scaled.head())"
   ]
  },
  {
   "cell_type": "code",
   "execution_count": 3,
   "metadata": {},
   "outputs": [
    {
     "name": "stdout",
     "output_type": "stream",
     "text": [
      "Best estimator: 1\n",
      "    estimators     score\n",
      "0          1.0  0.943718\n",
      "1          2.0  0.887692\n",
      "2          3.0  0.933462\n",
      "3          4.0  0.923205\n",
      "4          5.0  0.928333\n",
      "5          6.0  0.913205\n",
      "6          7.0  0.918205\n",
      "7          8.0  0.892821\n",
      "8          9.0  0.908077\n",
      "9         10.0  0.897949\n",
      "10        11.0  0.918333\n",
      "11        12.0  0.913333\n",
      "12        13.0  0.923333\n",
      "13        14.0  0.887692\n",
      "14        15.0  0.913205\n",
      "15        16.0  0.897821\n",
      "16        17.0  0.897821\n",
      "17        18.0  0.897821\n",
      "18        19.0  0.897821\n",
      "19        20.0  0.892821\n",
      "20        21.0  0.892821\n",
      "21        22.0  0.892821\n",
      "22        23.0  0.892821\n",
      "23        24.0  0.882564\n",
      "24        25.0  0.892692\n",
      "25        26.0  0.882564\n",
      "26        27.0  0.892692\n",
      "27        28.0  0.887692\n",
      "28        29.0  0.892692\n"
     ]
    },
    {
     "data": {
      "text/plain": [
       "<AxesSubplot:xlabel='estimators', ylabel='score'>"
      ]
     },
     "execution_count": 3,
     "metadata": {},
     "output_type": "execute_result"
    },
    {
     "data": {
      "image/png": "[encoded data removed]",
      "text/plain": [
       "<Figure size 432x288 with 1 Axes>"
      ]
     },
     "metadata": {},
     "output_type": "display_data"
    }
   ],
   "source": [
    "import seaborn as sns\n",
    "import numpy as np\n",
    "from sklearn.neighbors import KNeighborsClassifier\n",
    "from sklearn.metrics import recall_score, make_scorer\n",
    "from sklearn.model_selection import cross_val_score, cross_val_predict\n",
    "\n",
    "# loop to find best number of estimators\n",
    "result = []\n",
    "best_score = 0\n",
    "best_estimator = 0\n",
    "\n",
    "for i in range(1, 30):\n",
    "    modelK = KNeighborsClassifier(n_neighbors=i)\n",
    "    modelK.fit(X_train_scaled, y_train)\n",
    "    s = make_scorer(recall_score, pos_label='M')\n",
    "    scores = cross_val_score(modelK, X_train_scaled, y_train, cv=5, scoring=s)\n",
    "    if (scores.mean() > best_score):\n",
    "        best_estimator = i\n",
    "        best_score = scores.mean()\n",
    "    result.append((i, scores.mean()))\n",
    "    \n",
    "# converting result into dataframe\n",
    "estimators = np.array(result)[:,0]\n",
    "score = np.array(result)[:,1]\n",
    "d = {'estimators': estimators, 'score': score}\n",
    "df_scores = pd.DataFrame(d)\n",
    "print(f'Best estimator: {best_estimator}')\n",
    "print(df_scores)\n",
    "\n",
    "sns.set_theme(style=\"dark\")\n",
    "sns.set_palette(\"colorblind\")\n",
    "sns.lineplot(\n",
    "        data=df_scores,\n",
    "        x=\"estimators\", \n",
    "        y=\"score\"\n",
    "    )"
   ]
  },
  {
   "cell_type": "code",
   "execution_count": 4,
   "metadata": {},
   "outputs": [
    {
     "name": "stdout",
     "output_type": "stream",
     "text": [
      "recall_score: 0.94372 (+/- 0.04112)\n"
     ]
    }
   ],
   "source": [
    "modelK = KNeighborsClassifier(n_neighbors=1)\n",
    "modelK.fit(X_train_scaled, y_train)\n",
    "s = make_scorer(recall_score, pos_label='M')\n",
    "scores = cross_val_score(modelK, X_train_scaled, y_train, cv=5, scoring=s)\n",
    "y_pred = cross_val_predict(modelK, X_train_scaled, y_train, cv=5)\n",
    "print(\"recall_score: %0.5f (+/- %0.5f)\" % (scores.mean(), scores.std()))"
   ]
  },
  {
   "cell_type": "code",
   "execution_count": 5,
   "metadata": {},
   "outputs": [
    {
     "name": "stdout",
     "output_type": "stream",
     "text": [
      "[[299  17]\n",
      " [ 11 185]]\n",
      "              precision    recall  f1-score   support\n",
      "\n",
      "           B       0.96      0.95      0.96       316\n",
      "           M       0.92      0.94      0.93       196\n",
      "\n",
      "    accuracy                           0.95       512\n",
      "   macro avg       0.94      0.95      0.94       512\n",
      "weighted avg       0.95      0.95      0.95       512\n",
      "\n"
     ]
    }
   ],
   "source": [
    "from sklearn.metrics import confusion_matrix\n",
    "from sklearn.metrics import classification_report, plot_confusion_matrix\n",
    "\n",
    "print(confusion_matrix(y_train, y_pred))\n",
    "print(classification_report(y_train, y_pred))"
   ]
  },
  {
   "cell_type": "markdown",
   "metadata": {},
   "source": [
    "## Validação final"
   ]
  },
  {
   "cell_type": "code",
   "execution_count": 6,
   "metadata": {},
   "outputs": [
    {
     "name": "stdout",
     "output_type": "stream",
     "text": [
      "(57, 30)\n",
      "['B' 'B' 'M' 'M' 'B' 'B' 'B' 'B' 'M' 'B' 'M' 'B' 'B' 'B' 'B' 'B' 'B' 'B'\n",
      " 'B' 'B' 'B' 'B' 'M' 'B' 'B' 'M' 'B' 'B' 'B' 'B' 'B' 'B' 'B' 'B' 'B' 'M'\n",
      " 'B' 'M' 'M' 'M' 'M' 'B' 'M' 'B' 'B' 'B' 'B' 'M' 'B' 'M' 'M' 'B' 'B' 'B'\n",
      " 'B' 'B' 'M']\n"
     ]
    }
   ],
   "source": [
    "import pandas as pd\n",
    "# reading pre-formatted dataset\n",
    "X_test = pd.read_csv(\"../../../dataset/base_test.csv\") \n",
    "X_test = X_test.drop(columns=['Unnamed: 0'])\n",
    "\n",
    "df_diagnosis_test = pd.read_csv(\"../../../dataset/base_test_answer.csv\") \n",
    "df_diagnosis_test = df_diagnosis_test.drop(columns=['Unnamed: 0'])\n",
    "y_test = df_diagnosis_test['diagnosis'].ravel()\n",
    "\n",
    "print(X_test.shape)\n",
    "print(y_test)"
   ]
  },
  {
   "cell_type": "code",
   "execution_count": 7,
   "metadata": {},
   "outputs": [
    {
     "name": "stdout",
     "output_type": "stream",
     "text": [
      "   radius_mean  texture_mean  perimeter_mean  area_mean  smoothness_mean  \\\n",
      "0     0.383401      0.307362        0.378952   0.272930         0.389304   \n",
      "1     0.214850      0.639441        0.213911   0.137827         0.007059   \n",
      "2     0.746817      0.434175        0.757797   0.675166         0.626714   \n",
      "3     0.587512      0.607738        0.595970   0.487111         0.287227   \n",
      "4     0.531328      0.401397        0.512378   0.410479         0.380481   \n",
      "\n",
      "   compactness_mean  concavity_mean  concave points_mean  symmetry_mean  \\\n",
      "0          0.347309        0.255815             0.397646       0.508608   \n",
      "1          0.321969        0.253770             0.280414       0.000000   \n",
      "2          0.540428        0.701917             1.000000       0.422525   \n",
      "3          0.398756        0.309808             0.706874       0.649211   \n",
      "4          0.235122        0.187284             0.455273       0.209469   \n",
      "\n",
      "   fractal_dimension_mean  ...  radius_worst  texture_worst  perimeter_worst  \\\n",
      "0                0.259720  ...      0.321871       0.231732         0.329313   \n",
      "1                0.314597  ...      0.124964       0.522406         0.168241   \n",
      "2                0.290824  ...      0.766593       0.422689         0.729313   \n",
      "3                0.049100  ...      0.500528       0.463060         0.506868   \n",
      "4                0.077760  ...      0.391989       0.390795         0.368174   \n",
      "\n",
      "   area_worst  smoothness_worst  compactness_worst  concavity_worst  \\\n",
      "0    0.225284          0.420039           0.369257         0.299920   \n",
      "1    0.074490          0.121330           0.350544         0.232588   \n",
      "2    0.705835          0.565029           0.458052         0.488898   \n",
      "3    0.399968          0.304624           0.309186         0.183546   \n",
      "4    0.284561          0.451778           0.167590         0.132827   \n",
      "\n",
      "   concave points_worst  symmetry_worst  fractal_dimension_worst  \n",
      "0              0.549126        0.261586                 0.253128  \n",
      "1              0.424078        0.084037                 0.304314  \n",
      "2              0.768932        0.244078                 0.355062  \n",
      "3              0.593398        0.264470                 0.141132  \n",
      "4              0.354291        0.125850                 0.052323  \n",
      "\n",
      "[5 rows x 30 columns]\n"
     ]
    }
   ],
   "source": [
    "# normalizing validating dataframe\n",
    "from sklearn import preprocessing\n",
    "min_max_scaler = preprocessing.MinMaxScaler()\n",
    "X_test_scaled = pd.DataFrame(\n",
    "    min_max_scaler.fit_transform(X_test), \n",
    "        index=X_test.index, \n",
    "        columns=X_test.columns\n",
    "    )\n",
    "\n",
    "print(X_test_scaled.head())"
   ]
  },
  {
   "cell_type": "code",
   "execution_count": 9,
   "metadata": {},
   "outputs": [],
   "source": [
    "y_pred_test = modelK.predict(X_test_scaled)"
   ]
  },
  {
   "cell_type": "code",
   "execution_count": 10,
   "metadata": {},
   "outputs": [
    {
     "name": "stdout",
     "output_type": "stream",
     "text": [
      "[[34  7]\n",
      " [ 0 16]]\n",
      "              precision    recall  f1-score   support\n",
      "\n",
      "           B       1.00      0.83      0.91        41\n",
      "           M       0.70      1.00      0.82        16\n",
      "\n",
      "    accuracy                           0.88        57\n",
      "   macro avg       0.85      0.91      0.86        57\n",
      "weighted avg       0.91      0.88      0.88        57\n",
      "\n"
     ]
    }
   ],
   "source": [
    "from sklearn.metrics import confusion_matrix\n",
    "from sklearn.metrics import classification_report, plot_confusion_matrix\n",
    "\n",
    "print(confusion_matrix(y_test, y_pred_test))\n",
    "print(classification_report(y_test, y_pred_test))"
   ]
  },
  {
   "cell_type": "code",
   "execution_count": null,
   "metadata": {},
   "outputs": [],
   "source": []
  }
 ],
 "metadata": {
  "kernelspec": {
   "display_name": "Python 3",
   "language": "python",
   "name": "python3"
  },
  "language_info": {
   "codemirror_mode": {
    "name": "ipython",
    "version": 3
   },
   "file_extension": ".py",
   "mimetype": "text/x-python",
   "name": "python",
   "nbconvert_exporter": "python",
   "pygments_lexer": "ipython3",
   "version": "3.7.6"
  }
 },
 "nbformat": 4,
 "nbformat_minor": 4
}
