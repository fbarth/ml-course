{
 "cells": [
  {
   "cell_type": "markdown",
   "metadata": {
    "collapsed": true
   },
   "source": [
    "# Lista de exercícios 01\n",
    "\n",
    "Esta lista de exercícios é uma atividade opcional, mas altamente recomendada. Serão entregues diversas listas de exercícios ao longo da disciplina."
   ]
  },
  {
   "cell_type": "markdown",
   "metadata": {},
   "source": [
    "## Introdução\n",
    "\n",
    "1. O que é Aprendizagem de Máquina e qual é a sua relevância nos dias atuais para o desenvolvimento de soluções baseadas em tecnologia? \n",
    "\n",
    "2. Descreve a hierarquia de aprendizagem de máquina.\n",
    "\n",
    "3. Marque todos os enunciados de problema que são podem ser resolvidos através de técnicas de aprendizagem de máquina supervisionada.\n",
    "\n",
    "  * Dado conjuntos de itens adquiridos na mesma compra, identificar padrões de compra.\n",
    "  \n",
    "  * A sua empresa possui 1.000 itens idênticos em estoque. Você quer predizer quantos destes itens serão vendidos nos próximos três meses.\n",
    "   \n",
    "  * Você quer examinar clientes seus e para cada um decidir se ele irá pagar todo o financiamento ou não.\n",
    "  \n",
    "  * Identificar padrões de navegação em sites.\n",
    "  \n",
    "  * Dado e-mails rotulados como spam e não spam, desenvolver um filtro de spam.\n",
    "  \n",
    "  * Dado uma rede social, identificar sub-grupo de pessoas. \n",
    "  \n",
    "  * Dado uma base de pacientes diagnosticados com diabetes ou não, aprender a classificar novos pacientes com diabetes ou não.\n",
    "  \n",
    "4. Agora, para todos os itens marcados acima como problemas de aprendizagem de máquina supervisionada, diga quais são problemas de regressão e quais são problemas de classificação. "
   ]
  },
  {
   "cell_type": "markdown",
   "metadata": {},
   "source": [
    "## Processo de descoberta de conhecimento\n",
    "\n",
    "1. Descreve as etapas do processo KDD, também conhecido como CRISP-DM. \n",
    "\n",
    "2. Quais são as ferramentas ou linguagens de programação mais utilizadas para suportar o processo do CRISP-DM? "
   ]
  },
  {
   "cell_type": "markdown",
   "metadata": {},
   "source": [
    "## Pré-processamento e análise exploratória\n",
    "\n",
    "1. Considere as seguintes variáveis. Quais são os tipos que estão armazenados nos vetores? "
   ]
  },
  {
   "cell_type": "code",
   "execution_count": 1,
   "metadata": {},
   "outputs": [],
   "source": [
    "idade = [12, 13, 31, 41, 46, 65]\n",
    "nomes = ['Tadeu', 'Francisco', 'Ana', 'Fabio', 'Fabiola', 'Wilson']\n",
    "cidades = ['Sao Paulo', 'Sao Paulo', 'Ubatuba', 'Sao Paulo', 'Sao Paulo', 'Florianopolis']\n",
    "sexo = [True, True, False, True, False, True]"
   ]
  },
  {
   "cell_type": "markdown",
   "metadata": {},
   "source": [
    "2. Faça uso dos vetores acima para criar um DataFrame chamado pessoas com quatro atributos: idade, nome, cidade e sexo. \n",
    "\n",
    "3. Um dos especialistas envolvidos no projeto não acha razoável representar a variável sexo com valores True e False. Ele pediu para você substituir os valores por 'M' e 'F' respectivamente. Não substitua manualmente. Crie um código para fazer esta substituição. \n",
    "\n",
    "4. Qual é a idade mínima, máxima e média das pessoas de sexo Masculino? \n",
    "\n",
    "5. Qual é a idade mínima, máxima e média das pessoas que vivem em São Paulo? \n",
    "\n",
    "6. Considere o dataset abaixo (cars). As variáveis speed e dist são correlacionadas? Justifique a sua resposta. "
   ]
  },
  {
   "cell_type": "code",
   "execution_count": 4,
   "metadata": {},
   "outputs": [],
   "source": [
    "import pandas as pd\n",
    "import io\n",
    "import requests\n",
    "url=\"https://raw.githubusercontent.com/fbarth/ml-espm/master/data/cars.csv\"\n",
    "s=requests.get(url).content\n",
    "cars=pd.read_csv(io.StringIO(s.decode('utf-8')))"
   ]
  },
  {
   "cell_type": "code",
   "execution_count": 5,
   "metadata": {},
   "outputs": [
    {
     "data": {
      "text/html": [
       "<div>\n",
       "<style scoped>\n",
       "    .dataframe tbody tr th:only-of-type {\n",
       "        vertical-align: middle;\n",
       "    }\n",
       "\n",
       "    .dataframe tbody tr th {\n",
       "        vertical-align: top;\n",
       "    }\n",
       "\n",
       "    .dataframe thead th {\n",
       "        text-align: right;\n",
       "    }\n",
       "</style>\n",
       "<table border=\"1\" class=\"dataframe\">\n",
       "  <thead>\n",
       "    <tr style=\"text-align: right;\">\n",
       "      <th></th>\n",
       "      <th>speed</th>\n",
       "      <th>dist</th>\n",
       "    </tr>\n",
       "  </thead>\n",
       "  <tbody>\n",
       "    <tr>\n",
       "      <th>0</th>\n",
       "      <td>4</td>\n",
       "      <td>2</td>\n",
       "    </tr>\n",
       "    <tr>\n",
       "      <th>1</th>\n",
       "      <td>4</td>\n",
       "      <td>10</td>\n",
       "    </tr>\n",
       "    <tr>\n",
       "      <th>2</th>\n",
       "      <td>7</td>\n",
       "      <td>4</td>\n",
       "    </tr>\n",
       "    <tr>\n",
       "      <th>3</th>\n",
       "      <td>7</td>\n",
       "      <td>22</td>\n",
       "    </tr>\n",
       "    <tr>\n",
       "      <th>4</th>\n",
       "      <td>8</td>\n",
       "      <td>16</td>\n",
       "    </tr>\n",
       "  </tbody>\n",
       "</table>\n",
       "</div>"
      ],
      "text/plain": [
       "   speed  dist\n",
       "0      4     2\n",
       "1      4    10\n",
       "2      7     4\n",
       "3      7    22\n",
       "4      8    16"
      ]
     },
     "execution_count": 5,
     "metadata": {},
     "output_type": "execute_result"
    }
   ],
   "source": [
    "cars.head()"
   ]
  },
  {
   "cell_type": "markdown",
   "metadata": {},
   "source": [
    "7. Considere o dataset abaixo (imoveis) a responda as seguintes perguntas:\n",
    "  1. Como é a distruição dos valores da variável preço? Qual é o valor mínimo e máximo? O valor médio consegue representar bem os dados? \n",
    "  2. O preço tem diferença quando considerado o bairro? \n",
    "  3. As variáveis numéricas tem correlação com o preço? \n",
    "  4. Tem valor faltante neste dataset? \n",
    "  5. Tem algum exemplo que parece com valor digitado de forma errada? Se sim, o que você faria com este exemplo considerando que você terá que criar um modelo preditivo para a variável preço. "
   ]
  },
  {
   "cell_type": "code",
   "execution_count": 6,
   "metadata": {},
   "outputs": [],
   "source": [
    "url=\"https://raw.githubusercontent.com/fbarth/ml-espm/master/data/20140917_imoveis_filtrados_final.csv_shaped.csv\"\n",
    "s=requests.get(url).content\n",
    "imoveis=pd.read_csv(io.StringIO(s.decode('utf-8')))"
   ]
  },
  {
   "cell_type": "code",
   "execution_count": 7,
   "metadata": {},
   "outputs": [
    {
     "data": {
      "text/html": [
       "<div>\n",
       "<style scoped>\n",
       "    .dataframe tbody tr th:only-of-type {\n",
       "        vertical-align: middle;\n",
       "    }\n",
       "\n",
       "    .dataframe tbody tr th {\n",
       "        vertical-align: top;\n",
       "    }\n",
       "\n",
       "    .dataframe thead th {\n",
       "        text-align: right;\n",
       "    }\n",
       "</style>\n",
       "<table border=\"1\" class=\"dataframe\">\n",
       "  <thead>\n",
       "    <tr style=\"text-align: right;\">\n",
       "      <th></th>\n",
       "      <th>bairro</th>\n",
       "      <th>preco</th>\n",
       "      <th>area</th>\n",
       "      <th>suites</th>\n",
       "      <th>dormitorios</th>\n",
       "      <th>banheiros</th>\n",
       "      <th>vagas</th>\n",
       "    </tr>\n",
       "  </thead>\n",
       "  <tbody>\n",
       "    <tr>\n",
       "      <th>0</th>\n",
       "      <td>vila-nova-conceicao</td>\n",
       "      <td>490000.0</td>\n",
       "      <td>32.0</td>\n",
       "      <td>1.0</td>\n",
       "      <td>1.0</td>\n",
       "      <td>1.0</td>\n",
       "      <td>1.0</td>\n",
       "    </tr>\n",
       "    <tr>\n",
       "      <th>1</th>\n",
       "      <td>vila-nova-conceicao</td>\n",
       "      <td>3180000.0</td>\n",
       "      <td>157.0</td>\n",
       "      <td>2.0</td>\n",
       "      <td>2.0</td>\n",
       "      <td>2.0</td>\n",
       "      <td>2.0</td>\n",
       "    </tr>\n",
       "    <tr>\n",
       "      <th>2</th>\n",
       "      <td>vila-nova-conceicao</td>\n",
       "      <td>1900000.0</td>\n",
       "      <td>205.0</td>\n",
       "      <td>2.0</td>\n",
       "      <td>3.0</td>\n",
       "      <td>3.0</td>\n",
       "      <td>3.0</td>\n",
       "    </tr>\n",
       "    <tr>\n",
       "      <th>3</th>\n",
       "      <td>vila-nova-conceicao</td>\n",
       "      <td>3565000.0</td>\n",
       "      <td>193.0</td>\n",
       "      <td>3.0</td>\n",
       "      <td>3.0</td>\n",
       "      <td>3.0</td>\n",
       "      <td>3.0</td>\n",
       "    </tr>\n",
       "    <tr>\n",
       "      <th>4</th>\n",
       "      <td>vila-nova-conceicao</td>\n",
       "      <td>1605000.0</td>\n",
       "      <td>116.0</td>\n",
       "      <td>1.0</td>\n",
       "      <td>3.0</td>\n",
       "      <td>2.0</td>\n",
       "      <td>2.0</td>\n",
       "    </tr>\n",
       "  </tbody>\n",
       "</table>\n",
       "</div>"
      ],
      "text/plain": [
       "                bairro      preco   area  suites  dormitorios  banheiros  \\\n",
       "0  vila-nova-conceicao   490000.0   32.0     1.0          1.0        1.0   \n",
       "1  vila-nova-conceicao  3180000.0  157.0     2.0          2.0        2.0   \n",
       "2  vila-nova-conceicao  1900000.0  205.0     2.0          3.0        3.0   \n",
       "3  vila-nova-conceicao  3565000.0  193.0     3.0          3.0        3.0   \n",
       "4  vila-nova-conceicao  1605000.0  116.0     1.0          3.0        2.0   \n",
       "\n",
       "   vagas  \n",
       "0    1.0  \n",
       "1    2.0  \n",
       "2    3.0  \n",
       "3    3.0  \n",
       "4    2.0  "
      ]
     },
     "execution_count": 7,
     "metadata": {},
     "output_type": "execute_result"
    }
   ],
   "source": [
    "imoveis.head()"
   ]
  },
  {
   "cell_type": "markdown",
   "metadata": {},
   "source": [
    "  8. Quais são os bairros representados neste dataset? \n",
    "  9. Imprima um gráfico de barplot para o preço dos imóveis considerando o bairro.\n",
    "  10. Imprima um scatterplot para as duas variáveis com maior correlação entre si. Por favor, considere as variáveis preco, area, suites, dormitorios, banheiros e vagas.\n",
    "  11. Imprima também um scatterplot para as duas variáveis com menor correlação entre si. \n",
    "  12. O que você viu nos últimos dois plots? Esta claro a diferença? \n",
    "  13. Crie um dataset chamado imoveis_vila com somente os imóveis do bairro da vila mariana que estão no dataset imoveis. "
   ]
  },
  {
   "cell_type": "markdown",
   "metadata": {},
   "source": [
    "## Criação dos modelos (regressão linear)\n",
    "\n",
    "1. Considere o dataset cars. Crie um modelo de regressão linear para determinar dist levando-se em consideração speed. Utilize todo o dataset para construção do modelo.\n",
    "\n",
    "2. Qual foi o intercept e os coeficientes encontrados?\n",
    "\n",
    "4. Considere o dataset imoveis. Separe, de forma aleatória, 20% do dataset para testes e 80% para treinamento.\n",
    "\n",
    "5. Levando-se em consideração o conjunto de treinamento criado a partir do dataset imoveis, crie um modelo de regressão linear para determinar o valor de preco levando-se em consideração as demais variáveis. Não faça nenhuma transformação nas variáveis independentes. \n",
    "\n",
    "6. Quais foram os valores de RMSE e MAE que o modelo (m1) obteve levando-se em consideração o conjunto de treinamento e testes? O modelo (m1) é um modelo bom? Justifique a sua resposta. \n",
    "\n",
    "7. Levando-se em consideração o conjunto de treinamento criado a partir do dataset imoveis, crie um modelo de regressão linear para determinar o valor de preco levando-se em consideração as demais variáveis. Você pode fazer a transformação no atributos independentes que desejar. \n",
    "\n",
    "8. Quais foram os valores de RMSE e MAE que o modelo (m2) obteve levando-se em consideração o conjunto de treinamento e testes? O modelo (m2) é um modelo bom? Justifique a sua resposta.\n",
    "\n",
    "9. Qual é o melhor modelo (m1 ou m2) para predizer o valor de imóveis do dataset imoveis? \n",
    "\n",
    "10. Crie um modelo para determinar o valor dos preços dos imóveis do bairro vila mariana a partir do dataset imoveis_vila. "
   ]
  },
  {
   "cell_type": "code",
   "execution_count": null,
   "metadata": {},
   "outputs": [],
   "source": []
  }
 ],
 "metadata": {
  "kernelspec": {
   "display_name": "Python 3.6",
   "language": "python",
   "name": "python3"
  },
  "language_info": {
   "codemirror_mode": {
    "name": "ipython",
    "version": 3
   },
   "file_extension": ".py",
   "mimetype": "text/x-python",
   "name": "python",
   "nbconvert_exporter": "python",
   "pygments_lexer": "ipython3",
   "version": "3.6.8"
  }
 },
 "nbformat": 4,
 "nbformat_minor": 1
}
