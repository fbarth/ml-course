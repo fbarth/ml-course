{
 "cells": [
  {
   "cell_type": "markdown",
   "metadata": {},
   "source": [
    "# BalancedRandomForestClassifier com target encoder"
   ]
  },
  {
   "cell_type": "code",
   "execution_count": 1,
   "metadata": {},
   "outputs": [
    {
     "data": {
      "text/html": [
       "<div>\n",
       "<style scoped>\n",
       "    .dataframe tbody tr th:only-of-type {\n",
       "        vertical-align: middle;\n",
       "    }\n",
       "\n",
       "    .dataframe tbody tr th {\n",
       "        vertical-align: top;\n",
       "    }\n",
       "\n",
       "    .dataframe thead th {\n",
       "        text-align: right;\n",
       "    }\n",
       "</style>\n",
       "<table border=\"1\" class=\"dataframe\">\n",
       "  <thead>\n",
       "    <tr style=\"text-align: right;\">\n",
       "      <th></th>\n",
       "      <th>age</th>\n",
       "      <th>sex</th>\n",
       "      <th>job</th>\n",
       "      <th>housing</th>\n",
       "      <th>savingAccount</th>\n",
       "      <th>checkingAccount</th>\n",
       "      <th>creditAmount</th>\n",
       "      <th>duration</th>\n",
       "      <th>purpose</th>\n",
       "      <th>risk</th>\n",
       "    </tr>\n",
       "  </thead>\n",
       "  <tbody>\n",
       "    <tr>\n",
       "      <th>0</th>\n",
       "      <td>34</td>\n",
       "      <td>male</td>\n",
       "      <td>3</td>\n",
       "      <td>own</td>\n",
       "      <td>moderate</td>\n",
       "      <td>moderate</td>\n",
       "      <td>6850</td>\n",
       "      <td>15</td>\n",
       "      <td>car</td>\n",
       "      <td>bad</td>\n",
       "    </tr>\n",
       "    <tr>\n",
       "      <th>1</th>\n",
       "      <td>22</td>\n",
       "      <td>female</td>\n",
       "      <td>2</td>\n",
       "      <td>rent</td>\n",
       "      <td>little</td>\n",
       "      <td>NaN</td>\n",
       "      <td>433</td>\n",
       "      <td>18</td>\n",
       "      <td>radio/TV</td>\n",
       "      <td>bad</td>\n",
       "    </tr>\n",
       "    <tr>\n",
       "      <th>2</th>\n",
       "      <td>44</td>\n",
       "      <td>female</td>\n",
       "      <td>3</td>\n",
       "      <td>free</td>\n",
       "      <td>little</td>\n",
       "      <td>moderate</td>\n",
       "      <td>12579</td>\n",
       "      <td>24</td>\n",
       "      <td>car</td>\n",
       "      <td>bad</td>\n",
       "    </tr>\n",
       "    <tr>\n",
       "      <th>3</th>\n",
       "      <td>23</td>\n",
       "      <td>male</td>\n",
       "      <td>1</td>\n",
       "      <td>rent</td>\n",
       "      <td>quite rich</td>\n",
       "      <td>NaN</td>\n",
       "      <td>660</td>\n",
       "      <td>6</td>\n",
       "      <td>repairs</td>\n",
       "      <td>good</td>\n",
       "    </tr>\n",
       "    <tr>\n",
       "      <th>4</th>\n",
       "      <td>26</td>\n",
       "      <td>female</td>\n",
       "      <td>2</td>\n",
       "      <td>rent</td>\n",
       "      <td>little</td>\n",
       "      <td>NaN</td>\n",
       "      <td>1388</td>\n",
       "      <td>9</td>\n",
       "      <td>furniture/equipment</td>\n",
       "      <td>good</td>\n",
       "    </tr>\n",
       "  </tbody>\n",
       "</table>\n",
       "</div>"
      ],
      "text/plain": [
       "   age     sex  job housing savingAccount checkingAccount  creditAmount  \\\n",
       "0   34    male    3     own      moderate        moderate          6850   \n",
       "1   22  female    2    rent        little             NaN           433   \n",
       "2   44  female    3    free        little        moderate         12579   \n",
       "3   23    male    1    rent    quite rich             NaN           660   \n",
       "4   26  female    2    rent        little             NaN          1388   \n",
       "\n",
       "   duration              purpose  risk  \n",
       "0        15                  car   bad  \n",
       "1        18             radio/TV   bad  \n",
       "2        24                  car   bad  \n",
       "3         6              repairs  good  \n",
       "4         9  furniture/equipment  good  "
      ]
     },
     "execution_count": 1,
     "metadata": {},
     "output_type": "execute_result"
    }
   ],
   "source": [
    "import pandas as pd\n",
    "train = pd.read_csv('../../../dataset/german_credit_train.csv')\n",
    "train = train.drop(columns=['Unnamed: 0'])\n",
    "train.head()"
   ]
  },
  {
   "cell_type": "markdown",
   "metadata": {},
   "source": [
    "### Transformando dados categóricos em numéricos"
   ]
  },
  {
   "cell_type": "code",
   "execution_count": 2,
   "metadata": {},
   "outputs": [],
   "source": [
    "cleanup_nums = {\"savingAccount\": \n",
    "                {\"little\": 1, \"moderate\": 2, \"quite rich\": 3, \"rich\": 4}\n",
    "               }\n",
    "train.replace(cleanup_nums, inplace=True)"
   ]
  },
  {
   "cell_type": "code",
   "execution_count": 3,
   "metadata": {},
   "outputs": [],
   "source": [
    "cleanup_nums = {\"checkingAccount\": \n",
    "                {\"little\": 1, \"moderate\": 2, \"quite rich\": 3, \"rich\": 4}\n",
    "               }\n",
    "train.replace(cleanup_nums, inplace=True)"
   ]
  },
  {
   "cell_type": "code",
   "execution_count": 4,
   "metadata": {},
   "outputs": [],
   "source": [
    "train.replace({\"risk\": {\"bad\": 0, \"good\": 1}}, inplace=True)"
   ]
  },
  {
   "cell_type": "code",
   "execution_count": 5,
   "metadata": {},
   "outputs": [],
   "source": [
    "y_train = train['risk']\n",
    "train = train.drop(columns=['risk'])"
   ]
  },
  {
   "cell_type": "markdown",
   "metadata": {},
   "source": [
    "### Tratamento dos valores missing - atribuindo valores mais frequentes"
   ]
  },
  {
   "cell_type": "code",
   "execution_count": 6,
   "metadata": {},
   "outputs": [
    {
     "data": {
      "text/html": [
       "<div>\n",
       "<style scoped>\n",
       "    .dataframe tbody tr th:only-of-type {\n",
       "        vertical-align: middle;\n",
       "    }\n",
       "\n",
       "    .dataframe tbody tr th {\n",
       "        vertical-align: top;\n",
       "    }\n",
       "\n",
       "    .dataframe thead th {\n",
       "        text-align: right;\n",
       "    }\n",
       "</style>\n",
       "<table border=\"1\" class=\"dataframe\">\n",
       "  <thead>\n",
       "    <tr style=\"text-align: right;\">\n",
       "      <th></th>\n",
       "      <th>age</th>\n",
       "      <th>sex</th>\n",
       "      <th>job</th>\n",
       "      <th>housing</th>\n",
       "      <th>savingAccount</th>\n",
       "      <th>checkingAccount</th>\n",
       "      <th>creditAmount</th>\n",
       "      <th>duration</th>\n",
       "      <th>purpose</th>\n",
       "    </tr>\n",
       "  </thead>\n",
       "  <tbody>\n",
       "    <tr>\n",
       "      <th>0</th>\n",
       "      <td>34</td>\n",
       "      <td>male</td>\n",
       "      <td>3</td>\n",
       "      <td>own</td>\n",
       "      <td>2.0</td>\n",
       "      <td>2.0</td>\n",
       "      <td>6850</td>\n",
       "      <td>15</td>\n",
       "      <td>car</td>\n",
       "    </tr>\n",
       "    <tr>\n",
       "      <th>1</th>\n",
       "      <td>22</td>\n",
       "      <td>female</td>\n",
       "      <td>2</td>\n",
       "      <td>rent</td>\n",
       "      <td>1.0</td>\n",
       "      <td>1.0</td>\n",
       "      <td>433</td>\n",
       "      <td>18</td>\n",
       "      <td>radio/TV</td>\n",
       "    </tr>\n",
       "    <tr>\n",
       "      <th>2</th>\n",
       "      <td>44</td>\n",
       "      <td>female</td>\n",
       "      <td>3</td>\n",
       "      <td>free</td>\n",
       "      <td>1.0</td>\n",
       "      <td>2.0</td>\n",
       "      <td>12579</td>\n",
       "      <td>24</td>\n",
       "      <td>car</td>\n",
       "    </tr>\n",
       "    <tr>\n",
       "      <th>3</th>\n",
       "      <td>23</td>\n",
       "      <td>male</td>\n",
       "      <td>1</td>\n",
       "      <td>rent</td>\n",
       "      <td>3.0</td>\n",
       "      <td>1.0</td>\n",
       "      <td>660</td>\n",
       "      <td>6</td>\n",
       "      <td>repairs</td>\n",
       "    </tr>\n",
       "    <tr>\n",
       "      <th>4</th>\n",
       "      <td>26</td>\n",
       "      <td>female</td>\n",
       "      <td>2</td>\n",
       "      <td>rent</td>\n",
       "      <td>1.0</td>\n",
       "      <td>1.0</td>\n",
       "      <td>1388</td>\n",
       "      <td>9</td>\n",
       "      <td>furniture/equipment</td>\n",
       "    </tr>\n",
       "  </tbody>\n",
       "</table>\n",
       "</div>"
      ],
      "text/plain": [
       "   age     sex  job housing  savingAccount  checkingAccount  creditAmount  \\\n",
       "0   34    male    3     own            2.0              2.0          6850   \n",
       "1   22  female    2    rent            1.0              1.0           433   \n",
       "2   44  female    3    free            1.0              2.0         12579   \n",
       "3   23    male    1    rent            3.0              1.0           660   \n",
       "4   26  female    2    rent            1.0              1.0          1388   \n",
       "\n",
       "   duration              purpose  \n",
       "0        15                  car  \n",
       "1        18             radio/TV  \n",
       "2        24                  car  \n",
       "3         6              repairs  \n",
       "4         9  furniture/equipment  "
      ]
     },
     "execution_count": 6,
     "metadata": {},
     "output_type": "execute_result"
    }
   ],
   "source": [
    "train = train.fillna(1)\n",
    "train.head()"
   ]
  },
  {
   "cell_type": "markdown",
   "metadata": {},
   "source": [
    "### Definindo a função para aplicar target encorder e outros encoders e executar o cross-validation\n",
    "\n",
    "É necessário aplicar o target encoder no dataset treinamento duranto o processo de treinamento para evitar data leak. Se aplicarmos no dataset como um todo teremos um problema de data leak."
   ]
  },
  {
   "cell_type": "code",
   "execution_count": 7,
   "metadata": {},
   "outputs": [
    {
     "name": "stderr",
     "output_type": "stream",
     "text": [
      "Using TensorFlow backend.\n"
     ]
    }
   ],
   "source": [
    "import warnings\n",
    "warnings.filterwarnings('ignore')\n",
    "\n",
    "from imblearn.ensemble import BalancedRandomForestClassifier \n",
    "from sklearn.metrics import accuracy_score, precision_score, recall_score, f1_score\n",
    "from sklearn.model_selection import train_test_split, cross_val_score, cross_val_predict, StratifiedKFold\n",
    "import numpy as np\n",
    "\n",
    "def target_encoder_and_cross_validation(df, y, estimators, label):\n",
    "    random_seed=1234\n",
    "    kf = StratifiedKFold(n_splits=5, random_state=random_seed)\n",
    "    cross_val_f1_score_lst = []\n",
    "\n",
    "    for train_index_ls, validation_index_ls in kf.split(df, y):\n",
    "        dftrain, validation = df.iloc[train_index_ls], df.iloc[validation_index_ls]\n",
    "        target_train, target_val = y.iloc[train_index_ls], y.iloc[validation_index_ls]\n",
    "        \n",
    "        dftrain = pd.concat([dftrain, target_train], axis=1)\n",
    "\n",
    "        sex_enc = dftrain.groupby('sex')['risk'].mean().to_dict()\n",
    "        housing_enc = dftrain.groupby('housing')['risk'].mean().to_dict()\n",
    "        purpose_enc = dftrain.groupby('purpose')['risk'].mean().to_dict()    \n",
    "        dftrain['sex'].replace(sex_enc, inplace=True)\n",
    "        dftrain['housing'].replace(housing_enc, inplace=True)\n",
    "        dftrain['purpose'].replace(purpose_enc, inplace=True)\n",
    "        \n",
    "        dftrain = dftrain.drop(columns=['risk'])\n",
    "    \n",
    "        # training the model on oversampled 4 folds of training set\n",
    "        rf = BalancedRandomForestClassifier(n_estimators=estimators, random_state=random_seed)\n",
    "        rf.fit(dftrain, target_train)\n",
    "        \n",
    "        # testing on 1 fold of validation set\n",
    "\n",
    "        validation['sex'].replace(sex_enc, inplace=True)\n",
    "        validation['housing'].replace(housing_enc, inplace=True)\n",
    "        validation['purpose'].replace(purpose_enc, inplace=True)\n",
    "        validation_preds = rf.predict(validation)\n",
    "        \n",
    "        cross_val_f1_score_lst.append(f1_score(target_val, validation_preds, pos_label=label))\n",
    "    return np.mean(cross_val_f1_score_lst), rf, sex_enc, housing_enc, purpose_enc"
   ]
  },
  {
   "cell_type": "markdown",
   "metadata": {},
   "source": [
    "### Escolhendo os melhores hiperparâmetros para o BalancedRandomForestClassifier"
   ]
  },
  {
   "cell_type": "code",
   "execution_count": 8,
   "metadata": {},
   "outputs": [],
   "source": [
    "f1score, clf, sex_enc, housing_enc, purpose_enc = target_encoder_and_cross_validation(train, y_train, 700, 1)"
   ]
  },
  {
   "cell_type": "code",
   "execution_count": 9,
   "metadata": {},
   "outputs": [
    {
     "name": "stdout",
     "output_type": "stream",
     "text": [
      "0.6828416844422767\n",
      "[0.2024247  0.04765052 0.04953979 0.05298884 0.03913805 0.06065622\n",
      " 0.26613985 0.18377574 0.09768628]\n"
     ]
    }
   ],
   "source": [
    "print(f1score)\n",
    "print(clf.feature_importances_)"
   ]
  },
  {
   "cell_type": "code",
   "execution_count": null,
   "metadata": {},
   "outputs": [],
   "source": [
    "min_estimators = 100\n",
    "max_estimators = 4000\n",
    "step = 100\n",
    "result = []\n",
    "for i in range(min_estimators, max_estimators+step, step):\n",
    "    result.append((i, target_encoder_and_cross_validation(df, y_train, i, 1)))"
   ]
  },
  {
   "cell_type": "code",
   "execution_count": null,
   "metadata": {},
   "outputs": [],
   "source": [
    "import matplotlib.pyplot as plt\n",
    "plt.plot(*zip(*result))"
   ]
  },
  {
   "cell_type": "code",
   "execution_count": null,
   "metadata": {},
   "outputs": [],
   "source": [
    "max(result,key=lambda item:item[1])"
   ]
  },
  {
   "cell_type": "code",
   "execution_count": 19,
   "metadata": {},
   "outputs": [],
   "source": [
    "#import warnings\n",
    "#warnings.filterwarnings('ignore')\n",
    "#from imblearn.ensemble import BalancedRandomForestClassifier \n",
    "#clf = BalancedRandomForestClassifier(n_estimators=600, max_depth=None, random_state=1234)\n",
    "#s = make_scorer(f1_score, pos_label=1)\n",
    "#scores = cross_val_score(clf, df, y_train, cv=5, scoring=s)\n",
    "#y_pred = cross_val_predict(clf, df, y_train, cv=5)\n",
    "#print(\"f1_score: %0.2f (+/- %0.2f)\" % (scores.mean(), scores.std()))"
   ]
  },
  {
   "cell_type": "code",
   "execution_count": null,
   "metadata": {},
   "outputs": [],
   "source": [
    "#from sklearn.metrics import confusion_matrix\n",
    "#print(confusion_matrix(y_train, y_pred))\n",
    "#from sklearn.metrics import classification_report, plot_confusion_matrix\n",
    "#print(classification_report(y_train, y_pred))"
   ]
  },
  {
   "cell_type": "code",
   "execution_count": null,
   "metadata": {},
   "outputs": [],
   "source": [
    "#train.head()"
   ]
  },
  {
   "cell_type": "code",
   "execution_count": 10,
   "metadata": {},
   "outputs": [
    {
     "name": "stdout",
     "output_type": "stream",
     "text": [
      "[0.20863018 0.04253377 0.05694851 0.0514809  0.03970228 0.05427421\n",
      " 0.2631686  0.18080285 0.10245872]\n",
      "Index(['age', 'sex', 'job', 'housing', 'savingAccount', 'checkingAccount',\n",
      "       'creditAmount', 'duration', 'purpose'],\n",
      "      dtype='object')\n"
     ]
    }
   ],
   "source": [
    "train = pd.concat([train, y_train], axis=1)\n",
    "sex_enc = train.groupby('sex')['risk'].mean().to_dict()\n",
    "housing_enc = train.groupby('housing')['risk'].mean().to_dict()\n",
    "purpose_enc = train.groupby('purpose')['risk'].mean().to_dict()    \n",
    "train['sex'].replace(sex_enc, inplace=True)\n",
    "train['housing'].replace(housing_enc, inplace=True)\n",
    "train['purpose'].replace(purpose_enc, inplace=True)\n",
    "train = train.drop(columns=['risk'])\n",
    "\n",
    "clf = BalancedRandomForestClassifier(n_estimators=700, random_state=1234)\n",
    "clf.fit(train, y_train)\n",
    "print(clf.feature_importances_)\n",
    "print(train.columns)"
   ]
  },
  {
   "cell_type": "code",
   "execution_count": null,
   "metadata": {},
   "outputs": [],
   "source": [
    "#pred = clf.predict(train)\n",
    "#from sklearn.metrics import confusion_matrix\n",
    "#print(confusion_matrix(y_train, pred))\n",
    "#from sklearn.metrics import classification_report, plot_confusion_matrix\n",
    "#print(classification_report(y_train, pred))"
   ]
  },
  {
   "cell_type": "markdown",
   "metadata": {},
   "source": [
    "# Validação final no dataset de validação\n",
    "\n",
    "Considerando os resultados obtidos até então com este pipeline, vamos fazer a validação final considerando este pipeline."
   ]
  },
  {
   "cell_type": "code",
   "execution_count": 11,
   "metadata": {},
   "outputs": [
    {
     "data": {
      "text/html": [
       "<div>\n",
       "<style scoped>\n",
       "    .dataframe tbody tr th:only-of-type {\n",
       "        vertical-align: middle;\n",
       "    }\n",
       "\n",
       "    .dataframe tbody tr th {\n",
       "        vertical-align: top;\n",
       "    }\n",
       "\n",
       "    .dataframe thead th {\n",
       "        text-align: right;\n",
       "    }\n",
       "</style>\n",
       "<table border=\"1\" class=\"dataframe\">\n",
       "  <thead>\n",
       "    <tr style=\"text-align: right;\">\n",
       "      <th></th>\n",
       "      <th>age</th>\n",
       "      <th>sex</th>\n",
       "      <th>job</th>\n",
       "      <th>housing</th>\n",
       "      <th>savingAccount</th>\n",
       "      <th>checkingAccount</th>\n",
       "      <th>creditAmount</th>\n",
       "      <th>duration</th>\n",
       "      <th>purpose</th>\n",
       "      <th>risk</th>\n",
       "    </tr>\n",
       "  </thead>\n",
       "  <tbody>\n",
       "    <tr>\n",
       "      <th>0</th>\n",
       "      <td>24</td>\n",
       "      <td>male</td>\n",
       "      <td>2</td>\n",
       "      <td>own</td>\n",
       "      <td>little</td>\n",
       "      <td>NaN</td>\n",
       "      <td>1800</td>\n",
       "      <td>18</td>\n",
       "      <td>radio/TV</td>\n",
       "      <td>good</td>\n",
       "    </tr>\n",
       "    <tr>\n",
       "      <th>1</th>\n",
       "      <td>33</td>\n",
       "      <td>female</td>\n",
       "      <td>2</td>\n",
       "      <td>own</td>\n",
       "      <td>NaN</td>\n",
       "      <td>NaN</td>\n",
       "      <td>1927</td>\n",
       "      <td>24</td>\n",
       "      <td>education</td>\n",
       "      <td>good</td>\n",
       "    </tr>\n",
       "    <tr>\n",
       "      <th>2</th>\n",
       "      <td>30</td>\n",
       "      <td>male</td>\n",
       "      <td>3</td>\n",
       "      <td>free</td>\n",
       "      <td>NaN</td>\n",
       "      <td>NaN</td>\n",
       "      <td>12680</td>\n",
       "      <td>21</td>\n",
       "      <td>car</td>\n",
       "      <td>bad</td>\n",
       "    </tr>\n",
       "    <tr>\n",
       "      <th>3</th>\n",
       "      <td>39</td>\n",
       "      <td>female</td>\n",
       "      <td>2</td>\n",
       "      <td>own</td>\n",
       "      <td>little</td>\n",
       "      <td>moderate</td>\n",
       "      <td>1188</td>\n",
       "      <td>21</td>\n",
       "      <td>business</td>\n",
       "      <td>bad</td>\n",
       "    </tr>\n",
       "    <tr>\n",
       "      <th>4</th>\n",
       "      <td>44</td>\n",
       "      <td>male</td>\n",
       "      <td>2</td>\n",
       "      <td>free</td>\n",
       "      <td>little</td>\n",
       "      <td>NaN</td>\n",
       "      <td>5507</td>\n",
       "      <td>24</td>\n",
       "      <td>repairs</td>\n",
       "      <td>good</td>\n",
       "    </tr>\n",
       "  </tbody>\n",
       "</table>\n",
       "</div>"
      ],
      "text/plain": [
       "   age     sex  job housing savingAccount checkingAccount  creditAmount  \\\n",
       "0   24    male    2     own        little             NaN          1800   \n",
       "1   33  female    2     own           NaN             NaN          1927   \n",
       "2   30    male    3    free           NaN             NaN         12680   \n",
       "3   39  female    2     own        little        moderate          1188   \n",
       "4   44    male    2    free        little             NaN          5507   \n",
       "\n",
       "   duration    purpose  risk  \n",
       "0        18   radio/TV  good  \n",
       "1        24  education  good  \n",
       "2        21        car   bad  \n",
       "3        21   business   bad  \n",
       "4        24    repairs  good  "
      ]
     },
     "execution_count": 11,
     "metadata": {},
     "output_type": "execute_result"
    }
   ],
   "source": [
    "validacao = pd.read_csv('../../../dataset/german_credit_validation.csv')\n",
    "validacao = validacao.drop(columns=['Unnamed: 0'])\n",
    "validacao.head()"
   ]
  },
  {
   "cell_type": "code",
   "execution_count": 12,
   "metadata": {},
   "outputs": [
    {
     "data": {
      "text/html": [
       "<div>\n",
       "<style scoped>\n",
       "    .dataframe tbody tr th:only-of-type {\n",
       "        vertical-align: middle;\n",
       "    }\n",
       "\n",
       "    .dataframe tbody tr th {\n",
       "        vertical-align: top;\n",
       "    }\n",
       "\n",
       "    .dataframe thead th {\n",
       "        text-align: right;\n",
       "    }\n",
       "</style>\n",
       "<table border=\"1\" class=\"dataframe\">\n",
       "  <thead>\n",
       "    <tr style=\"text-align: right;\">\n",
       "      <th></th>\n",
       "      <th>age</th>\n",
       "      <th>sex</th>\n",
       "      <th>job</th>\n",
       "      <th>housing</th>\n",
       "      <th>savingAccount</th>\n",
       "      <th>checkingAccount</th>\n",
       "      <th>creditAmount</th>\n",
       "      <th>duration</th>\n",
       "      <th>purpose</th>\n",
       "      <th>risk</th>\n",
       "    </tr>\n",
       "  </thead>\n",
       "  <tbody>\n",
       "    <tr>\n",
       "      <th>0</th>\n",
       "      <td>24</td>\n",
       "      <td>male</td>\n",
       "      <td>2</td>\n",
       "      <td>own</td>\n",
       "      <td>1.0</td>\n",
       "      <td>1.0</td>\n",
       "      <td>1800</td>\n",
       "      <td>18</td>\n",
       "      <td>radio/TV</td>\n",
       "      <td>0</td>\n",
       "    </tr>\n",
       "    <tr>\n",
       "      <th>1</th>\n",
       "      <td>33</td>\n",
       "      <td>female</td>\n",
       "      <td>2</td>\n",
       "      <td>own</td>\n",
       "      <td>1.0</td>\n",
       "      <td>1.0</td>\n",
       "      <td>1927</td>\n",
       "      <td>24</td>\n",
       "      <td>education</td>\n",
       "      <td>0</td>\n",
       "    </tr>\n",
       "    <tr>\n",
       "      <th>2</th>\n",
       "      <td>30</td>\n",
       "      <td>male</td>\n",
       "      <td>3</td>\n",
       "      <td>free</td>\n",
       "      <td>1.0</td>\n",
       "      <td>1.0</td>\n",
       "      <td>12680</td>\n",
       "      <td>21</td>\n",
       "      <td>car</td>\n",
       "      <td>1</td>\n",
       "    </tr>\n",
       "    <tr>\n",
       "      <th>3</th>\n",
       "      <td>39</td>\n",
       "      <td>female</td>\n",
       "      <td>2</td>\n",
       "      <td>own</td>\n",
       "      <td>1.0</td>\n",
       "      <td>2.0</td>\n",
       "      <td>1188</td>\n",
       "      <td>21</td>\n",
       "      <td>business</td>\n",
       "      <td>1</td>\n",
       "    </tr>\n",
       "    <tr>\n",
       "      <th>4</th>\n",
       "      <td>44</td>\n",
       "      <td>male</td>\n",
       "      <td>2</td>\n",
       "      <td>free</td>\n",
       "      <td>1.0</td>\n",
       "      <td>1.0</td>\n",
       "      <td>5507</td>\n",
       "      <td>24</td>\n",
       "      <td>repairs</td>\n",
       "      <td>0</td>\n",
       "    </tr>\n",
       "  </tbody>\n",
       "</table>\n",
       "</div>"
      ],
      "text/plain": [
       "   age     sex  job housing  savingAccount  checkingAccount  creditAmount  \\\n",
       "0   24    male    2     own            1.0              1.0          1800   \n",
       "1   33  female    2     own            1.0              1.0          1927   \n",
       "2   30    male    3    free            1.0              1.0         12680   \n",
       "3   39  female    2     own            1.0              2.0          1188   \n",
       "4   44    male    2    free            1.0              1.0          5507   \n",
       "\n",
       "   duration    purpose  risk  \n",
       "0        18   radio/TV     0  \n",
       "1        24  education     0  \n",
       "2        21        car     1  \n",
       "3        21   business     1  \n",
       "4        24    repairs     0  "
      ]
     },
     "execution_count": 12,
     "metadata": {},
     "output_type": "execute_result"
    }
   ],
   "source": [
    "cleanup_nums = {\"savingAccount\": \n",
    "                {\"little\": 1, \"moderate\": 2, \"quite rich\": 3, \"rich\": 4}\n",
    "               }\n",
    "validacao.replace(cleanup_nums, inplace=True)\n",
    "\n",
    "cleanup_nums = {\"checkingAccount\": \n",
    "                {\"little\": 1, \"moderate\": 2, \"quite rich\": 3, \"rich\": 4}\n",
    "               }\n",
    "validacao.replace(cleanup_nums, inplace=True)\n",
    "\n",
    "validacao.replace({\"risk\": {\"good\": 0, \"bad\":1}}, inplace=True)\n",
    "\n",
    "validacao = validacao.fillna(1)\n",
    "\n",
    "validacao.head()"
   ]
  },
  {
   "cell_type": "code",
   "execution_count": 13,
   "metadata": {},
   "outputs": [
    {
     "name": "stdout",
     "output_type": "stream",
     "text": [
      "{'female': 0.6263736263736264, 'male': 0.7464114832535885}\n",
      "{'free': 0.5652173913043478, 'own': 0.7413394919168591, 'rent': 0.673469387755102}\n",
      "{'business': 0.7, 'car': 0.6966824644549763, 'domestic appliances': 0.6666666666666666, 'education': 0.4857142857142857, 'furniture/equipment': 0.7075471698113207, 'radio/TV': 0.7904191616766467, 'repairs': 0.6, 'vacation/others': 0.6}\n"
     ]
    }
   ],
   "source": [
    "print(sex_enc)\n",
    "print(housing_enc)\n",
    "print(purpose_enc)"
   ]
  },
  {
   "cell_type": "code",
   "execution_count": 14,
   "metadata": {},
   "outputs": [
    {
     "data": {
      "text/html": [
       "<div>\n",
       "<style scoped>\n",
       "    .dataframe tbody tr th:only-of-type {\n",
       "        vertical-align: middle;\n",
       "    }\n",
       "\n",
       "    .dataframe tbody tr th {\n",
       "        vertical-align: top;\n",
       "    }\n",
       "\n",
       "    .dataframe thead th {\n",
       "        text-align: right;\n",
       "    }\n",
       "</style>\n",
       "<table border=\"1\" class=\"dataframe\">\n",
       "  <thead>\n",
       "    <tr style=\"text-align: right;\">\n",
       "      <th></th>\n",
       "      <th>age</th>\n",
       "      <th>sex</th>\n",
       "      <th>job</th>\n",
       "      <th>housing</th>\n",
       "      <th>savingAccount</th>\n",
       "      <th>checkingAccount</th>\n",
       "      <th>creditAmount</th>\n",
       "      <th>duration</th>\n",
       "      <th>purpose</th>\n",
       "      <th>risk</th>\n",
       "    </tr>\n",
       "  </thead>\n",
       "  <tbody>\n",
       "    <tr>\n",
       "      <th>0</th>\n",
       "      <td>24</td>\n",
       "      <td>0.746411</td>\n",
       "      <td>2</td>\n",
       "      <td>0.741339</td>\n",
       "      <td>1.0</td>\n",
       "      <td>1.0</td>\n",
       "      <td>1800</td>\n",
       "      <td>18</td>\n",
       "      <td>0.790419</td>\n",
       "      <td>0</td>\n",
       "    </tr>\n",
       "    <tr>\n",
       "      <th>1</th>\n",
       "      <td>33</td>\n",
       "      <td>0.626374</td>\n",
       "      <td>2</td>\n",
       "      <td>0.741339</td>\n",
       "      <td>1.0</td>\n",
       "      <td>1.0</td>\n",
       "      <td>1927</td>\n",
       "      <td>24</td>\n",
       "      <td>0.485714</td>\n",
       "      <td>0</td>\n",
       "    </tr>\n",
       "    <tr>\n",
       "      <th>2</th>\n",
       "      <td>30</td>\n",
       "      <td>0.746411</td>\n",
       "      <td>3</td>\n",
       "      <td>0.565217</td>\n",
       "      <td>1.0</td>\n",
       "      <td>1.0</td>\n",
       "      <td>12680</td>\n",
       "      <td>21</td>\n",
       "      <td>0.696682</td>\n",
       "      <td>1</td>\n",
       "    </tr>\n",
       "    <tr>\n",
       "      <th>3</th>\n",
       "      <td>39</td>\n",
       "      <td>0.626374</td>\n",
       "      <td>2</td>\n",
       "      <td>0.741339</td>\n",
       "      <td>1.0</td>\n",
       "      <td>2.0</td>\n",
       "      <td>1188</td>\n",
       "      <td>21</td>\n",
       "      <td>0.700000</td>\n",
       "      <td>1</td>\n",
       "    </tr>\n",
       "    <tr>\n",
       "      <th>4</th>\n",
       "      <td>44</td>\n",
       "      <td>0.746411</td>\n",
       "      <td>2</td>\n",
       "      <td>0.565217</td>\n",
       "      <td>1.0</td>\n",
       "      <td>1.0</td>\n",
       "      <td>5507</td>\n",
       "      <td>24</td>\n",
       "      <td>0.600000</td>\n",
       "      <td>0</td>\n",
       "    </tr>\n",
       "  </tbody>\n",
       "</table>\n",
       "</div>"
      ],
      "text/plain": [
       "   age       sex  job   housing  savingAccount  checkingAccount  creditAmount  \\\n",
       "0   24  0.746411    2  0.741339            1.0              1.0          1800   \n",
       "1   33  0.626374    2  0.741339            1.0              1.0          1927   \n",
       "2   30  0.746411    3  0.565217            1.0              1.0         12680   \n",
       "3   39  0.626374    2  0.741339            1.0              2.0          1188   \n",
       "4   44  0.746411    2  0.565217            1.0              1.0          5507   \n",
       "\n",
       "   duration   purpose  risk  \n",
       "0        18  0.790419     0  \n",
       "1        24  0.485714     0  \n",
       "2        21  0.696682     1  \n",
       "3        21  0.700000     1  \n",
       "4        24  0.600000     0  "
      ]
     },
     "execution_count": 14,
     "metadata": {},
     "output_type": "execute_result"
    }
   ],
   "source": [
    "validacao['sex'].replace(sex_enc, inplace=True)\n",
    "validacao['housing'].replace(housing_enc, inplace=True)\n",
    "validacao['purpose'].replace(purpose_enc, inplace=True)\n",
    "validacao.head()"
   ]
  },
  {
   "cell_type": "code",
   "execution_count": 15,
   "metadata": {},
   "outputs": [
    {
     "name": "stdout",
     "output_type": "stream",
     "text": [
      "(400, 9) (400,)\n"
     ]
    }
   ],
   "source": [
    "y_validacao = validacao['risk']\n",
    "validacao = validacao.drop(columns=['risk'])\n",
    "print(validacao.shape, y_validacao.shape)"
   ]
  },
  {
   "cell_type": "code",
   "execution_count": 16,
   "metadata": {},
   "outputs": [],
   "source": [
    "pred_validacao = clf.predict(validacao)"
   ]
  },
  {
   "cell_type": "code",
   "execution_count": 17,
   "metadata": {},
   "outputs": [
    {
     "name": "stdout",
     "output_type": "stream",
     "text": [
      "[[118 156]\n",
      " [ 80  46]]\n",
      "              precision    recall  f1-score   support\n",
      "\n",
      "           0       0.60      0.43      0.50       274\n",
      "           1       0.23      0.37      0.28       126\n",
      "\n",
      "    accuracy                           0.41       400\n",
      "   macro avg       0.41      0.40      0.39       400\n",
      "weighted avg       0.48      0.41      0.43       400\n",
      "\n"
     ]
    }
   ],
   "source": [
    "from sklearn.metrics import confusion_matrix\n",
    "print(confusion_matrix(y_validacao, pred_validacao))\n",
    "from sklearn.metrics import classification_report, plot_confusion_matrix\n",
    "print(classification_report(y_validacao, pred_validacao))"
   ]
  },
  {
   "cell_type": "code",
   "execution_count": null,
   "metadata": {},
   "outputs": [],
   "source": []
  }
 ],
 "metadata": {
  "kernelspec": {
   "display_name": "Python 3",
   "language": "python",
   "name": "python3"
  },
  "language_info": {
   "codemirror_mode": {
    "name": "ipython",
    "version": 3
   },
   "file_extension": ".py",
   "mimetype": "text/x-python",
   "name": "python",
   "nbconvert_exporter": "python",
   "pygments_lexer": "ipython3",
   "version": "3.7.6"
  }
 },
 "nbformat": 4,
 "nbformat_minor": 4
}
